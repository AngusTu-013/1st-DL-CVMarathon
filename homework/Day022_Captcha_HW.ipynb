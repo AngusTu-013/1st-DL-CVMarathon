{
  "nbformat": 4,
  "nbformat_minor": 0,
  "metadata": {
    "accelerator": "GPU",
    "colab": {
      "name": "Day022_Captcha_HW.ipynb",
      "provenance": [],
      "collapsed_sections": []
    },
    "kernelspec": {
      "name": "python3",
      "display_name": "Python 3"
    },
    "language_info": {
      "codemirror_mode": {
        "name": "ipython",
        "version": 3
      },
      "file_extension": ".py",
      "mimetype": "text/x-python",
      "name": "python",
      "nbconvert_exporter": "python",
      "pygments_lexer": "ipython3",
      "version": "3.6.9"
    }
  },
  "cells": [
    {
      "cell_type": "markdown",
      "metadata": {
        "id": "uSQPjVof9Ckr",
        "colab_type": "text"
      },
      "source": [
        "## 『本次練習內容』\n",
        "#### 搭建一個能識別驗證碼的模型(CNN+CTC)"
      ]
    },
    {
      "cell_type": "markdown",
      "metadata": {
        "id": "egLdBI6l9Ck1",
        "colab_type": "text"
      },
      "source": [
        "## 『本次練習目的』\n",
        "  #### 了解如何結合CNN與CTC Loss\n",
        "  #### 有時間學員也可以延伸閱讀CNN+RNN+CTC模型\n",
        "  #### 沒有GPU的學員可以使用Colab，可以參考問答區的文章"
      ]
    },
    {
      "cell_type": "code",
      "metadata": {
        "id": "w1xQe7259Ck5",
        "colab_type": "code",
        "outputId": "abc0d783-e9e6-42b4-9165-f006c8c4991d",
        "colab": {
          "base_uri": "https://localhost:8080/",
          "height": 306
        }
      },
      "source": [
        "## 使用Colab可先run這裡的code\n",
        "#假如要連結自己的雲端硬碟再開啟\n",
        "#from google.colab import drive\n",
        "#drive.mount('/content/gdrive')\n",
        "#檢查GPU\n",
        "!nvidia-smi\n",
        "##安裝產生驗證碼的套件"
      ],
      "execution_count": 0,
      "outputs": [
        {
          "output_type": "stream",
          "text": [
            "Wed Dec 25 11:52:31 2019       \n",
            "+-----------------------------------------------------------------------------+\n",
            "| NVIDIA-SMI 440.44       Driver Version: 418.67       CUDA Version: 10.1     |\n",
            "|-------------------------------+----------------------+----------------------+\n",
            "| GPU  Name        Persistence-M| Bus-Id        Disp.A | Volatile Uncorr. ECC |\n",
            "| Fan  Temp  Perf  Pwr:Usage/Cap|         Memory-Usage | GPU-Util  Compute M. |\n",
            "|===============================+======================+======================|\n",
            "|   0  Tesla P100-PCIE...  Off  | 00000000:00:04.0 Off |                    0 |\n",
            "| N/A   35C    P0    27W / 250W |      0MiB / 16280MiB |      0%      Default |\n",
            "+-------------------------------+----------------------+----------------------+\n",
            "                                                                               \n",
            "+-----------------------------------------------------------------------------+\n",
            "| Processes:                                                       GPU Memory |\n",
            "|  GPU       PID   Type   Process name                             Usage      |\n",
            "|=============================================================================|\n",
            "|  No running processes found                                                 |\n",
            "+-----------------------------------------------------------------------------+\n"
          ],
          "name": "stdout"
        }
      ]
    },
    {
      "cell_type": "code",
      "metadata": {
        "id": "9z8jVv3a9ClM",
        "colab_type": "code",
        "outputId": "d7848b5b-15e4-481d-82a2-0adf98e5c74c",
        "colab": {
          "base_uri": "https://localhost:8080/",
          "height": 258
        }
      },
      "source": [
        "!ln -sf /opt/bin/nvidia-smi /usr/bin/nvidia-smi\n",
        "!pip install gputil\n",
        "!pip install psutil\n",
        "!pip install humanize\n",
        "import psutil\n",
        "import humanize\n",
        "import os\n",
        "import GPUtil as GPU\n",
        "GPUs = GPU.getGPUs()\n",
        "#print(GPUs)\n",
        "gpu = GPUs[0]\n",
        "\n",
        "def printGPU():\n",
        "  process = psutil.Process(os.getpid())\n",
        "  print(\"Gen RAM Free: \" + humanize.naturalsize( psutil.virtual_memory().available ), \" | Proc size: \" + humanize.naturalsize( process.memory_info().rss))\n",
        "  print(\"GPU RAM Free: {0:.0f}MB | Used: {1:.0f}MB | Util {2:3.0f}% | Total {3:.0f}MB\".format(gpu.memoryFree, gpu.memoryUsed, gpu.memoryUtil*100, gpu.memoryTotal))\n",
        "  \n",
        "printGPU()"
      ],
      "execution_count": 0,
      "outputs": [
        {
          "output_type": "stream",
          "text": [
            "Collecting gputil\n",
            "  Downloading https://files.pythonhosted.org/packages/ed/0e/5c61eedde9f6c87713e89d794f01e378cfd9565847d4576fa627d758c554/GPUtil-1.4.0.tar.gz\n",
            "Building wheels for collected packages: gputil\n",
            "  Building wheel for gputil (setup.py) ... \u001b[?25l\u001b[?25hdone\n",
            "  Created wheel for gputil: filename=GPUtil-1.4.0-cp36-none-any.whl size=7410 sha256=06680896bd141b3165b6e23dc160fa0c4aa64163f08db1b8d92aaa5f6aa5e73c\n",
            "  Stored in directory: /root/.cache/pip/wheels/3d/77/07/80562de4bb0786e5ea186911a2c831fdd0018bda69beab71fd\n",
            "Successfully built gputil\n",
            "Installing collected packages: gputil\n",
            "Successfully installed gputil-1.4.0\n",
            "Requirement already satisfied: psutil in /usr/local/lib/python3.6/dist-packages (5.4.8)\n",
            "Requirement already satisfied: humanize in /usr/local/lib/python3.6/dist-packages (0.5.1)\n",
            "Gen RAM Free: 12.8 GB  | Proc size: 155.9 MB\n",
            "GPU RAM Free: 16280MB | Used: 0MB | Util   0% | Total 16280MB\n"
          ],
          "name": "stdout"
        }
      ]
    },
    {
      "cell_type": "markdown",
      "metadata": {
        "id": "Iw2mQJwc9ClY",
        "colab_type": "text"
      },
      "source": [
        "## 記得先 pip install captcha"
      ]
    },
    {
      "cell_type": "code",
      "metadata": {
        "colab_type": "code",
        "id": "AxGi02yvx1Go",
        "outputId": "eec13580-a527-4bb1-997c-8c57a6a0742a",
        "colab": {
          "base_uri": "https://localhost:8080/",
          "height": 156
        }
      },
      "source": [
        "pip install captcha"
      ],
      "execution_count": 0,
      "outputs": [
        {
          "output_type": "stream",
          "text": [
            "Collecting captcha\n",
            "\u001b[?25l  Downloading https://files.pythonhosted.org/packages/90/fe/d4ddf1e6576073b5eaea76e9b2afa022c626212a30c871968480be3ccb7b/captcha-0.3-py3-none-any.whl (101kB)\n",
            "\r\u001b[K     |███▎                            | 10kB 23.2MB/s eta 0:00:01\r\u001b[K     |██████▌                         | 20kB 3.1MB/s eta 0:00:01\r\u001b[K     |█████████▊                      | 30kB 4.2MB/s eta 0:00:01\r\u001b[K     |█████████████                   | 40kB 2.9MB/s eta 0:00:01\r\u001b[K     |████████████████▏               | 51kB 3.3MB/s eta 0:00:01\r\u001b[K     |███████████████████▍            | 61kB 3.9MB/s eta 0:00:01\r\u001b[K     |██████████████████████▋         | 71kB 4.1MB/s eta 0:00:01\r\u001b[K     |█████████████████████████▉      | 81kB 4.5MB/s eta 0:00:01\r\u001b[K     |█████████████████████████████   | 92kB 5.0MB/s eta 0:00:01\r\u001b[K     |████████████████████████████████| 102kB 3.7MB/s \n",
            "\u001b[?25hRequirement already satisfied: Pillow in /usr/local/lib/python3.6/dist-packages (from captcha) (4.3.0)\n",
            "Requirement already satisfied: olefile in /usr/local/lib/python3.6/dist-packages (from Pillow->captcha) (0.46)\n",
            "Installing collected packages: captcha\n",
            "Successfully installed captcha-0.3\n"
          ],
          "name": "stdout"
        }
      ]
    },
    {
      "cell_type": "markdown",
      "metadata": {
        "id": "iYn-4x4g9Clp",
        "colab_type": "text"
      },
      "source": [
        "## 產生驗證碼"
      ]
    },
    {
      "cell_type": "code",
      "metadata": {
        "colab_type": "code",
        "id": "h2VVCBKwk6Zv",
        "outputId": "89c0db82-1834-4a72-c9b0-f80ecab99dfe",
        "colab": {
          "base_uri": "https://localhost:8080/",
          "height": 254
        }
      },
      "source": [
        "from captcha.image import ImageCaptcha\n",
        "import matplotlib.pyplot as plt\n",
        "import numpy as np\n",
        "import random\n",
        "\n",
        "%matplotlib inline\n",
        "%config InlineBackend.figure_format = 'retina'\n",
        "\n",
        "import string\n",
        "##驗證碼包含0-10數字以及26個英文字母\n",
        "characters = string.digits + string.ascii_uppercase\n",
        "print(characters)\n",
        "\n",
        "##設定產生圖片尺寸，以及總類別，n_class之所以要加一是為了留一個位置給Blank\n",
        "width, height, n_len, n_class = 170, 80, 4, len(characters)+1\n",
        "\n",
        "##設定產生驗證碼的generator\n",
        "generator = ImageCaptcha(width=width, height=height)\n",
        "\n",
        "##我們先練習固定長度4個字的驗證碼\n",
        "random_str = ''.join([random.choice(characters) for j in range(4)])\n",
        "img = generator.generate_image(random_str)\n",
        "\n",
        "plt.imshow(img)\n",
        "plt.title(random_str)"
      ],
      "execution_count": 0,
      "outputs": [
        {
          "output_type": "stream",
          "text": [
            "0123456789ABCDEFGHIJKLMNOPQRSTUVWXYZ\n"
          ],
          "name": "stdout"
        },
        {
          "output_type": "execute_result",
          "data": {
            "text/plain": [
              "Text(0.5, 1.0, '3HNV')"
            ]
          },
          "metadata": {
            "tags": []
          },
          "execution_count": 4
        },
        {
          "output_type": "display_data",
          "data": {
            "image/png": "[encoded data removed]",
            "text/plain": [
              "<Figure size 432x288 with 1 Axes>"
            ]
          },
          "metadata": {
            "tags": [],
            "image/png": {
              "width": 369,
              "height": 203
            }
          }
        }
      ]
    },
    {
      "cell_type": "markdown",
      "metadata": {
        "id": "Gf1fMHuU9Cl2",
        "colab_type": "text"
      },
      "source": [
        "## 自己搭建一個CNN模型使得output feature Map 高度被壓縮成小於4，8<寬度<20\n",
        "#### 解答的output feature Map 為 (batch_size,1,13,32)"
      ]
    },
    {
      "cell_type": "code",
      "metadata": {
        "id": "HceDg5tF9Cl5",
        "colab_type": "code",
        "outputId": "641442e0-0435-4ad5-a31f-25dc7c5b9979",
        "colab": {
          "base_uri": "https://localhost:8080/",
          "height": 34
        }
      },
      "source": [
        "print(height, width)"
      ],
      "execution_count": 0,
      "outputs": [
        {
          "output_type": "stream",
          "text": [
            "80 170\n"
          ],
          "name": "stdout"
        }
      ]
    },
    {
      "cell_type": "code",
      "metadata": {
        "id": "BLzS_XYz9CmG",
        "colab_type": "code",
        "outputId": "36993ba1-4c69-414d-91ef-a26e179f277e",
        "colab": {
          "base_uri": "https://localhost:8080/",
          "height": 1000
        }
      },
      "source": [
        "from keras.models import *\n",
        "from keras.layers import *\n",
        "rnn_size = 128\n",
        "\n",
        "input_tensor = Input((height,width, 3))\n",
        "x = input_tensor\n",
        "\n",
        "'''自己設計CNN層'''\n",
        "\n",
        "x = Convolution2D(filters=64, kernel_size=(5,5), padding='valid',name='block1_conv_1_1')(x)\n",
        "x = Convolution2D(filters=64, kernel_size=(5,5), padding='valid',name='block1_conv_1_2')(x)\n",
        "x = BatchNormalization(name='block1_bn_1')(x)\n",
        "x = Activation('relu')(x)\n",
        "x = MaxPooling2D(pool_size=(2,2))(x)\n",
        "\n",
        "x = Convolution2D(filters=128, kernel_size=(3,3), padding='valid',name='block2_conv_1_1')(x)\n",
        "x = Convolution2D(filters=128, kernel_size=(3,3), padding='valid',name='block2_conv_1_2')(x)\n",
        "x = BatchNormalization(name='block2_bn_1')(x)\n",
        "x = Activation('relu')(x)\n",
        "x = MaxPooling2D(pool_size=(2,2))(x)\n",
        "\n",
        "x = Convolution2D(filters=256, kernel_size=(3,3), padding='valid',name='block3_conv_1_1')(x)\n",
        "x = Convolution2D(filters=256, kernel_size=(3,3), padding='valid',name='block3_conv_1_2')(x)\n",
        "x = BatchNormalization(name='block3_bn_1')(x)\n",
        "x = Activation('relu')(x)\n",
        "x = MaxPooling2D(pool_size=(2,2))(x)\n",
        "\n",
        "x = Convolution2D(filters=32, kernel_size=(3,3), padding='valid',name='block4_conv_1_1')(x)\n",
        "x = Convolution2D(filters=32, kernel_size=(3,3), padding='valid',name='block4_conv_1_2')(x)\n",
        "x = BatchNormalization(name='block4_bn_1')(x)\n",
        "x = Activation('relu')(x)\n",
        "x = MaxPooling2D(pool_size=(2,1))(x)\n",
        "\n",
        "\n",
        "##記錄輸出CNN尺寸，loss部分需要這個資訊\n",
        "##conv_shape=(Batch_size,輸出高度,輸出寬度,輸出深度)\n",
        "conv_shape = x.get_shape()\n",
        "\n",
        "##從(Batch_size,輸出高度,輸出寬度,輸出深度)變成(Batch_size,輸出寬度,輸出深度*輸出高度)，以符合ctc loss需求\n",
        "x = Reshape(target_shape=(int(conv_shape[2]), int(conv_shape[1]*conv_shape[3])))(x)\n",
        "\n",
        "x = Dense(32, activation='relu')(x)\n",
        "\n",
        "x = Dropout(0.25)(x)\n",
        "x = Dense(n_class, activation='softmax')(x)\n",
        "\n",
        "\n",
        "##包裝用來預測的model\n",
        "base_model = Model(input=input_tensor, output=x)\n",
        "\n",
        "print(base_model.summary())"
      ],
      "execution_count": 0,
      "outputs": [
        {
          "output_type": "stream",
          "text": [
            "Model: \"model_12\"\n",
            "_________________________________________________________________\n",
            "Layer (type)                 Output Shape              Param #   \n",
            "=================================================================\n",
            "input_12 (InputLayer)        (None, 80, 170, 3)        0         \n",
            "_________________________________________________________________\n",
            "block1_conv_1_1 (Conv2D)     (None, 76, 166, 64)       4864      \n",
            "_________________________________________________________________\n",
            "block1_conv_1_2 (Conv2D)     (None, 72, 162, 64)       102464    \n",
            "_________________________________________________________________\n",
            "block1_bn_1 (BatchNormalizat (None, 72, 162, 64)       256       \n",
            "_________________________________________________________________\n",
            "activation_45 (Activation)   (None, 72, 162, 64)       0         \n",
            "_________________________________________________________________\n",
            "max_pooling2d_45 (MaxPooling (None, 36, 81, 64)        0         \n",
            "_________________________________________________________________\n",
            "block2_conv_1_1 (Conv2D)     (None, 34, 79, 128)       73856     \n",
            "_________________________________________________________________\n",
            "block2_conv_1_2 (Conv2D)     (None, 32, 77, 128)       147584    \n",
            "_________________________________________________________________\n",
            "block2_bn_1 (BatchNormalizat (None, 32, 77, 128)       512       \n",
            "_________________________________________________________________\n",
            "activation_46 (Activation)   (None, 32, 77, 128)       0         \n",
            "_________________________________________________________________\n",
            "max_pooling2d_46 (MaxPooling (None, 16, 38, 128)       0         \n",
            "_________________________________________________________________\n",
            "block3_conv_1_1 (Conv2D)     (None, 14, 36, 256)       295168    \n",
            "_________________________________________________________________\n",
            "block3_conv_1_2 (Conv2D)     (None, 12, 34, 256)       590080    \n",
            "_________________________________________________________________\n",
            "block3_bn_1 (BatchNormalizat (None, 12, 34, 256)       1024      \n",
            "_________________________________________________________________\n",
            "activation_47 (Activation)   (None, 12, 34, 256)       0         \n",
            "_________________________________________________________________\n",
            "max_pooling2d_47 (MaxPooling (None, 6, 17, 256)        0         \n",
            "_________________________________________________________________\n",
            "block4_conv_1_1 (Conv2D)     (None, 4, 15, 32)         73760     \n",
            "_________________________________________________________________\n",
            "block4_conv_1_2 (Conv2D)     (None, 2, 13, 32)         9248      \n",
            "_________________________________________________________________\n",
            "block4_bn_1 (BatchNormalizat (None, 2, 13, 32)         128       \n",
            "_________________________________________________________________\n",
            "activation_48 (Activation)   (None, 2, 13, 32)         0         \n",
            "_________________________________________________________________\n",
            "max_pooling2d_48 (MaxPooling (None, 1, 13, 32)         0         \n",
            "_________________________________________________________________\n",
            "reshape_11 (Reshape)         (None, 13, 32)            0         \n",
            "_________________________________________________________________\n",
            "dense_21 (Dense)             (None, 13, 32)            1056      \n",
            "_________________________________________________________________\n",
            "dropout_11 (Dropout)         (None, 13, 32)            0         \n",
            "_________________________________________________________________\n",
            "dense_22 (Dense)             (None, 13, 37)            1221      \n",
            "=================================================================\n",
            "Total params: 1,301,221\n",
            "Trainable params: 1,300,261\n",
            "Non-trainable params: 960\n",
            "_________________________________________________________________\n",
            "None\n"
          ],
          "name": "stdout"
        },
        {
          "output_type": "stream",
          "text": [
            "/usr/local/lib/python3.6/dist-packages/ipykernel_launcher.py:49: UserWarning: Update your `Model` call to the Keras 2 API: `Model(inputs=Tensor(\"in..., outputs=Tensor(\"de...)`\n"
          ],
          "name": "stderr"
        }
      ]
    },
    {
      "cell_type": "code",
      "metadata": {
        "id": "ZySBs9Fj9Cml",
        "colab_type": "code",
        "colab": {}
      },
      "source": [
        "from keras import backend as K\n",
        "import keras\n",
        "\n",
        "##CTC Loss需要四個資訊，分別是\n",
        "## Label\n",
        "## 預測\n",
        "## CNN OUTPUT寬度\n",
        "## 預測影像所包含文字長度\n",
        "def ctc_lambda_func(args):\n",
        "    y_pred, labels, input_length, label_length = args\n",
        "    return K.ctc_batch_cost(labels, y_pred, input_length, label_length)"
      ],
      "execution_count": 0,
      "outputs": []
    },
    {
      "cell_type": "code",
      "metadata": {
        "colab_type": "code",
        "id": "KX3Jq1sClGGn",
        "outputId": "8e44d81a-3398-41c7-c204-596df7812753",
        "colab": {
          "base_uri": "https://localhost:8080/",
          "height": 71
        }
      },
      "source": [
        "##設定要給CTC Loss的資訊\n",
        "labels = Input(name='the_labels', shape=[n_len], dtype='float32')\n",
        "input_length = Input(name='input_length', shape=[1], dtype='int64')\n",
        "label_length = Input(name='label_length', shape=[1], dtype='int64')\n",
        "loss_out = Lambda(ctc_lambda_func, output_shape=(1,), \n",
        "                  name='ctc')([x, labels, input_length, label_length])\n",
        "\n",
        "##這裡的model是用來計算loss\n",
        "model = Model(input=[input_tensor, labels, input_length, label_length], output=[loss_out])\n",
        "\n",
        "##之所以要lambda y_true, y_pred: y_pred是因為我們的loss已經包在網路裡，會output:y_true, y_pred，而我們只需要y_pred\n",
        "model.compile(loss={'ctc': lambda y_true, y_pred: y_pred}, optimizer='SGD')"
      ],
      "execution_count": 0,
      "outputs": [
        {
          "output_type": "stream",
          "text": [
            "/usr/local/lib/python3.6/dist-packages/ipykernel_launcher.py:8: UserWarning: Update your `Model` call to the Keras 2 API: `Model(inputs=[<tf.Tenso..., outputs=[<tf.Tenso...)`\n",
            "  \n"
          ],
          "name": "stderr"
        }
      ]
    },
    {
      "cell_type": "code",
      "metadata": {
        "colab_type": "code",
        "id": "m1YRv0TVN_FL",
        "outputId": "eba923b1-29ae-4941-e78b-ed2babaaae2b",
        "colab": {
          "base_uri": "https://localhost:8080/",
          "height": 1000
        }
      },
      "source": [
        "model.summary()"
      ],
      "execution_count": 0,
      "outputs": [
        {
          "output_type": "stream",
          "text": [
            "Model: \"model_13\"\n",
            "__________________________________________________________________________________________________\n",
            "Layer (type)                    Output Shape         Param #     Connected to                     \n",
            "==================================================================================================\n",
            "input_12 (InputLayer)           (None, 80, 170, 3)   0                                            \n",
            "__________________________________________________________________________________________________\n",
            "block1_conv_1_1 (Conv2D)        (None, 76, 166, 64)  4864        input_12[0][0]                   \n",
            "__________________________________________________________________________________________________\n",
            "block1_conv_1_2 (Conv2D)        (None, 72, 162, 64)  102464      block1_conv_1_1[0][0]            \n",
            "__________________________________________________________________________________________________\n",
            "block1_bn_1 (BatchNormalization (None, 72, 162, 64)  256         block1_conv_1_2[0][0]            \n",
            "__________________________________________________________________________________________________\n",
            "activation_45 (Activation)      (None, 72, 162, 64)  0           block1_bn_1[0][0]                \n",
            "__________________________________________________________________________________________________\n",
            "max_pooling2d_45 (MaxPooling2D) (None, 36, 81, 64)   0           activation_45[0][0]              \n",
            "__________________________________________________________________________________________________\n",
            "block2_conv_1_1 (Conv2D)        (None, 34, 79, 128)  73856       max_pooling2d_45[0][0]           \n",
            "__________________________________________________________________________________________________\n",
            "block2_conv_1_2 (Conv2D)        (None, 32, 77, 128)  147584      block2_conv_1_1[0][0]            \n",
            "__________________________________________________________________________________________________\n",
            "block2_bn_1 (BatchNormalization (None, 32, 77, 128)  512         block2_conv_1_2[0][0]            \n",
            "__________________________________________________________________________________________________\n",
            "activation_46 (Activation)      (None, 32, 77, 128)  0           block2_bn_1[0][0]                \n",
            "__________________________________________________________________________________________________\n",
            "max_pooling2d_46 (MaxPooling2D) (None, 16, 38, 128)  0           activation_46[0][0]              \n",
            "__________________________________________________________________________________________________\n",
            "block3_conv_1_1 (Conv2D)        (None, 14, 36, 256)  295168      max_pooling2d_46[0][0]           \n",
            "__________________________________________________________________________________________________\n",
            "block3_conv_1_2 (Conv2D)        (None, 12, 34, 256)  590080      block3_conv_1_1[0][0]            \n",
            "__________________________________________________________________________________________________\n",
            "block3_bn_1 (BatchNormalization (None, 12, 34, 256)  1024        block3_conv_1_2[0][0]            \n",
            "__________________________________________________________________________________________________\n",
            "activation_47 (Activation)      (None, 12, 34, 256)  0           block3_bn_1[0][0]                \n",
            "__________________________________________________________________________________________________\n",
            "max_pooling2d_47 (MaxPooling2D) (None, 6, 17, 256)   0           activation_47[0][0]              \n",
            "__________________________________________________________________________________________________\n",
            "block4_conv_1_1 (Conv2D)        (None, 4, 15, 32)    73760       max_pooling2d_47[0][0]           \n",
            "__________________________________________________________________________________________________\n",
            "block4_conv_1_2 (Conv2D)        (None, 2, 13, 32)    9248        block4_conv_1_1[0][0]            \n",
            "__________________________________________________________________________________________________\n",
            "block4_bn_1 (BatchNormalization (None, 2, 13, 32)    128         block4_conv_1_2[0][0]            \n",
            "__________________________________________________________________________________________________\n",
            "activation_48 (Activation)      (None, 2, 13, 32)    0           block4_bn_1[0][0]                \n",
            "__________________________________________________________________________________________________\n",
            "max_pooling2d_48 (MaxPooling2D) (None, 1, 13, 32)    0           activation_48[0][0]              \n",
            "__________________________________________________________________________________________________\n",
            "reshape_11 (Reshape)            (None, 13, 32)       0           max_pooling2d_48[0][0]           \n",
            "__________________________________________________________________________________________________\n",
            "dense_21 (Dense)                (None, 13, 32)       1056        reshape_11[0][0]                 \n",
            "__________________________________________________________________________________________________\n",
            "dropout_11 (Dropout)            (None, 13, 32)       0           dense_21[0][0]                   \n",
            "__________________________________________________________________________________________________\n",
            "dense_22 (Dense)                (None, 13, 37)       1221        dropout_11[0][0]                 \n",
            "__________________________________________________________________________________________________\n",
            "the_labels (InputLayer)         (None, 4)            0                                            \n",
            "__________________________________________________________________________________________________\n",
            "input_length (InputLayer)       (None, 1)            0                                            \n",
            "__________________________________________________________________________________________________\n",
            "label_length (InputLayer)       (None, 1)            0                                            \n",
            "__________________________________________________________________________________________________\n",
            "ctc (Lambda)                    (None, 1)            0           dense_22[0][0]                   \n",
            "                                                                 the_labels[0][0]                 \n",
            "                                                                 input_length[0][0]               \n",
            "                                                                 label_length[0][0]               \n",
            "==================================================================================================\n",
            "Total params: 1,301,221\n",
            "Trainable params: 1,300,261\n",
            "Non-trainable params: 960\n",
            "__________________________________________________________________________________________________\n"
          ],
          "name": "stdout"
        }
      ]
    },
    {
      "cell_type": "code",
      "metadata": {
        "colab_type": "code",
        "id": "5Jzb1YnqlJug",
        "colab": {}
      },
      "source": [
        "##設計generator產生training data\n",
        "## 產生包含要給loss的資訊\n",
        "## X=輸入影像\n",
        "## np.ones(batch_size)*int(conv_shape[2])=CNN輸出feature Map寬度\n",
        "## np.ones(batch_size)*n_len=字串長度(可浮動)\n",
        "\n",
        "def gen(batch_size=128):\n",
        "    X = np.zeros((batch_size,height, width, 3), dtype=np.uint8)\n",
        "    y = np.zeros((batch_size, n_len), dtype=np.uint8)\n",
        "    while True:\n",
        "        generator = ImageCaptcha(width=width, height=height)\n",
        "        for i in range(batch_size):\n",
        "            random_str = ''.join([random.choice(characters) for j in range(4)])\n",
        "            X[i] = np.array(generator.generate_image(random_str))\n",
        "            y[i] = [characters.find(x) for x in random_str]\n",
        "        yield [X, y,np.ones(batch_size)*int(conv_shape[2]), np.ones(batch_size)*n_len], np.ones(batch_size)"
      ],
      "execution_count": 0,
      "outputs": []
    },
    {
      "cell_type": "code",
      "metadata": {
        "colab_type": "code",
        "id": "dfcFs6InVQaT",
        "outputId": "e21621ac-1778-47af-acf4-f85c8baa47b1",
        "colab": {
          "base_uri": "https://localhost:8080/",
          "height": 259
        }
      },
      "source": [
        "next_ge=gen(batch_size=1)\n",
        "test_ge=next(next_ge)\n",
        "plt.imshow(test_ge[0][0][0])\n",
        "print('Label: ',test_ge[0][1])\n",
        "print('CNN輸出寬度: ',test_ge[0][2])\n",
        "print('字串長度(可浮動): ',test_ge[0][3])"
      ],
      "execution_count": 0,
      "outputs": [
        {
          "output_type": "stream",
          "text": [
            "Label:  [[28 27 13 23]]\n",
            "CNN輸出寬度:  [13.]\n",
            "字串長度(可浮動):  [4.]\n"
          ],
          "name": "stdout"
        },
        {
          "output_type": "display_data",
          "data": {
            "image/png": "[encoded data removed]",
            "text/plain": [
              "<Figure size 432x288 with 1 Axes>"
            ]
          },
          "metadata": {
            "tags": [],
            "image/png": {
              "width": 369,
              "height": 191
            }
          }
        }
      ]
    },
    {
      "cell_type": "markdown",
      "metadata": {
        "id": "bf-DWtGs9CnF",
        "colab_type": "text"
      },
      "source": [
        "## 開始訓練"
      ]
    },
    {
      "cell_type": "code",
      "metadata": {
        "colab_type": "code",
        "id": "fqdKnqollUKj",
        "outputId": "7a78d799-2c46-4f26-9252-4885df1e89b1",
        "colab": {
          "base_uri": "https://localhost:8080/",
          "height": 1000
        }
      },
      "source": [
        "model.fit_generator(gen(32), steps_per_epoch=300, epochs=60)"
      ],
      "execution_count": 0,
      "outputs": [
        {
          "output_type": "stream",
          "text": [
            "Epoch 1/60\n",
            "300/300 [==============================] - 39s 130ms/step - loss: 15.3476\n",
            "Epoch 2/60\n",
            "300/300 [==============================] - 37s 122ms/step - loss: 11.8428\n",
            "Epoch 3/60\n",
            "300/300 [==============================] - 37s 123ms/step - loss: 8.2681\n",
            "Epoch 4/60\n",
            "300/300 [==============================] - 37s 123ms/step - loss: 6.4754\n",
            "Epoch 5/60\n",
            "300/300 [==============================] - 37s 123ms/step - loss: 5.2566\n",
            "Epoch 6/60\n",
            "300/300 [==============================] - 37s 124ms/step - loss: 4.5239\n",
            "Epoch 7/60\n",
            "300/300 [==============================] - 38s 125ms/step - loss: 4.0359\n",
            "Epoch 8/60\n",
            "300/300 [==============================] - 37s 124ms/step - loss: 3.7404\n",
            "Epoch 9/60\n",
            "300/300 [==============================] - 37s 125ms/step - loss: 3.4623\n",
            "Epoch 10/60\n",
            "300/300 [==============================] - 37s 124ms/step - loss: 3.3325\n",
            "Epoch 11/60\n",
            "300/300 [==============================] - 37s 125ms/step - loss: 3.1675\n",
            "Epoch 12/60\n",
            "300/300 [==============================] - 37s 124ms/step - loss: 3.0566\n",
            "Epoch 13/60\n",
            "300/300 [==============================] - 37s 125ms/step - loss: 2.9065\n",
            "Epoch 14/60\n",
            "300/300 [==============================] - 38s 126ms/step - loss: 2.8141\n",
            "Epoch 15/60\n",
            "300/300 [==============================] - 38s 126ms/step - loss: 2.8559\n",
            "Epoch 16/60\n",
            "300/300 [==============================] - 38s 126ms/step - loss: 2.7135\n",
            "Epoch 17/60\n",
            "300/300 [==============================] - 38s 126ms/step - loss: 2.6521\n",
            "Epoch 18/60\n",
            "300/300 [==============================] - 38s 125ms/step - loss: 2.5277\n",
            "Epoch 19/60\n",
            "300/300 [==============================] - 38s 126ms/step - loss: 2.4683\n",
            "Epoch 20/60\n",
            "300/300 [==============================] - 38s 126ms/step - loss: 2.4097\n",
            "Epoch 21/60\n",
            "300/300 [==============================] - 38s 126ms/step - loss: 2.3770\n",
            "Epoch 22/60\n",
            "300/300 [==============================] - 38s 127ms/step - loss: 2.3659\n",
            "Epoch 23/60\n",
            "300/300 [==============================] - 38s 127ms/step - loss: 2.3518\n",
            "Epoch 24/60\n",
            "300/300 [==============================] - 38s 127ms/step - loss: 2.3099\n",
            "Epoch 25/60\n",
            "300/300 [==============================] - 38s 126ms/step - loss: 2.2242\n",
            "Epoch 26/60\n",
            "300/300 [==============================] - 38s 127ms/step - loss: 2.2399\n",
            "Epoch 27/60\n",
            "300/300 [==============================] - 38s 125ms/step - loss: 2.1607\n",
            "Epoch 28/60\n",
            "300/300 [==============================] - 38s 127ms/step - loss: 2.1641\n",
            "Epoch 29/60\n",
            "300/300 [==============================] - 38s 126ms/step - loss: 2.0982\n",
            "Epoch 30/60\n",
            "300/300 [==============================] - 38s 126ms/step - loss: 2.0764\n",
            "Epoch 31/60\n",
            "300/300 [==============================] - 38s 128ms/step - loss: 2.0817\n",
            "Epoch 32/60\n",
            "300/300 [==============================] - 38s 127ms/step - loss: 2.0169\n",
            "Epoch 33/60\n",
            "300/300 [==============================] - 38s 127ms/step - loss: 1.9697\n",
            "Epoch 34/60\n",
            "300/300 [==============================] - 38s 127ms/step - loss: 1.9945\n",
            "Epoch 35/60\n",
            "300/300 [==============================] - 38s 128ms/step - loss: 1.9193\n",
            "Epoch 36/60\n",
            "300/300 [==============================] - 39s 128ms/step - loss: 1.9320\n",
            "Epoch 37/60\n",
            "300/300 [==============================] - 38s 128ms/step - loss: 1.8830\n",
            "Epoch 38/60\n",
            "300/300 [==============================] - 39s 128ms/step - loss: 1.9154\n",
            "Epoch 39/60\n",
            "300/300 [==============================] - 39s 129ms/step - loss: 1.8335\n",
            "Epoch 40/60\n",
            "300/300 [==============================] - 38s 126ms/step - loss: 1.8311\n",
            "Epoch 41/60\n",
            "300/300 [==============================] - 38s 127ms/step - loss: 1.7693\n",
            "Epoch 42/60\n",
            "300/300 [==============================] - 37s 124ms/step - loss: 1.7489\n",
            "Epoch 43/60\n",
            "300/300 [==============================] - 37s 124ms/step - loss: 1.7529\n",
            "Epoch 44/60\n",
            "300/300 [==============================] - 37s 123ms/step - loss: 1.7294\n",
            "Epoch 45/60\n",
            "300/300 [==============================] - 38s 126ms/step - loss: 1.7021\n",
            "Epoch 46/60\n",
            "300/300 [==============================] - 38s 127ms/step - loss: 1.6774\n",
            "Epoch 47/60\n",
            "300/300 [==============================] - 37s 125ms/step - loss: 1.6176\n",
            "Epoch 48/60\n",
            "300/300 [==============================] - 37s 122ms/step - loss: 1.6120\n",
            "Epoch 49/60\n",
            "300/300 [==============================] - 36s 121ms/step - loss: 1.5968\n",
            "Epoch 50/60\n",
            "300/300 [==============================] - 36s 122ms/step - loss: 1.5777\n",
            "Epoch 51/60\n",
            "300/300 [==============================] - 37s 125ms/step - loss: 1.5371\n",
            "Epoch 52/60\n",
            "300/300 [==============================] - 37s 123ms/step - loss: 1.5370\n",
            "Epoch 53/60\n",
            "300/300 [==============================] - 37s 123ms/step - loss: 1.5215\n",
            "Epoch 54/60\n",
            "300/300 [==============================] - 37s 124ms/step - loss: 1.4789\n",
            "Epoch 55/60\n",
            "300/300 [==============================] - 37s 123ms/step - loss: 1.4803\n",
            "Epoch 56/60\n",
            "300/300 [==============================] - 37s 125ms/step - loss: 1.4363\n",
            "Epoch 57/60\n",
            "300/300 [==============================] - 37s 123ms/step - loss: 1.4656\n",
            "Epoch 58/60\n",
            "300/300 [==============================] - 37s 124ms/step - loss: 1.4501\n",
            "Epoch 59/60\n",
            "300/300 [==============================] - 38s 125ms/step - loss: 1.4436\n",
            "Epoch 60/60\n",
            "300/300 [==============================] - 37s 124ms/step - loss: 1.4486\n"
          ],
          "name": "stdout"
        },
        {
          "output_type": "execute_result",
          "data": {
            "text/plain": [
              "<keras.callbacks.History at 0x7f2e00bb6ba8>"
            ]
          },
          "metadata": {
            "tags": []
          },
          "execution_count": 31
        }
      ]
    },
    {
      "cell_type": "markdown",
      "metadata": {
        "id": "CqeiUzn89CnS",
        "colab_type": "text"
      },
      "source": [
        "## 預測"
      ]
    },
    {
      "cell_type": "code",
      "metadata": {
        "colab_type": "code",
        "id": "xiJJDLTFlXkb",
        "outputId": "c2db1148-a648-4d29-f034-85d7dc694050",
        "colab": {
          "base_uri": "https://localhost:8080/",
          "height": 234
        }
      },
      "source": [
        "characters2 = characters + ' '\n",
        "[X_test, y_test, _, _], _  = next(gen(1))\n",
        "y_pred = base_model.predict(X_test)\n",
        "##用ctc_decode得到解答，自己寫可以參考下方\n",
        "out = K.get_value(K.ctc_decode(y_pred, input_length=np.ones(y_pred.shape[0])*y_pred.shape[1], )[0][0])\n",
        "out = ''.join([characters[x] for x in out[0]])\n",
        "y_true = ''.join([characters[x] for x in y_test[0]])\n",
        "\n",
        "plt.imshow(X_test[0])\n",
        "plt.title('pred:' + str(out) + '\\ntrue: ' + str(y_true))\n",
        "\n",
        "argmax = np.argmax(y_pred, axis=2)[0]\n"
      ],
      "execution_count": 0,
      "outputs": [
        {
          "output_type": "display_data",
          "data": {
            "image/png": "[encoded data removed]",
            "text/plain": [
              "<Figure size 432x288 with 1 Axes>"
            ]
          },
          "metadata": {
            "tags": [],
            "image/png": {
              "width": 369,
              "height": 217
            }
          }
        }
      ]
    },
    {
      "cell_type": "code",
      "metadata": {
        "id": "s8jgnRGj9Cnh",
        "colab_type": "code",
        "outputId": "b8fb463a-216c-4031-91e7-855396597b34",
        "colab": {
          "base_uri": "https://localhost:8080/",
          "height": 34
        }
      },
      "source": [
        "characters[17]"
      ],
      "execution_count": 0,
      "outputs": [
        {
          "output_type": "execute_result",
          "data": {
            "text/plain": [
              "'H'"
            ]
          },
          "metadata": {
            "tags": []
          },
          "execution_count": 50
        }
      ]
    },
    {
      "cell_type": "code",
      "metadata": {
        "id": "FfzpQPRi9Cnq",
        "colab_type": "code",
        "outputId": "31293363-fa41-480b-adf5-b3d1d26a8cb0",
        "colab": {
          "base_uri": "https://localhost:8080/",
          "height": 34
        }
      },
      "source": [
        " y_pred[0].argmax(1)"
      ],
      "execution_count": 0,
      "outputs": [
        {
          "output_type": "execute_result",
          "data": {
            "text/plain": [
              "array([ 6, 36, 36, 36,  7,  7,  7, 12, 12, 36, 25, 25, 25])"
            ]
          },
          "metadata": {
            "tags": []
          },
          "execution_count": 51
        }
      ]
    },
    {
      "cell_type": "markdown",
      "metadata": {
        "id": "L0g0hwHL9Cn1",
        "colab_type": "text"
      },
      "source": [
        "## 自己寫 decode CTC"
      ]
    },
    {
      "cell_type": "code",
      "metadata": {
        "id": "sXw0ycB59Cn5",
        "colab_type": "code",
        "colab": {}
      },
      "source": [
        "## 其中0代表預測為空格，如果預測相同字符之間沒有空格要移除\n",
        "word=''\n",
        "n=''\n",
        "for single_result in y_pred[0].argmax(1):\n",
        "    if single_result != 36:\n",
        "        if n != single_result:\n",
        "            word+=characters[single_result]\n",
        "    n=single_result "
      ],
      "execution_count": 0,
      "outputs": []
    },
    {
      "cell_type": "markdown",
      "metadata": {
        "id": "IwHb6y0N9CoD",
        "colab_type": "text"
      },
      "source": [
        "## 額外參考：加入RNN的神經網路"
      ]
    },
    {
      "cell_type": "code",
      "metadata": {
        "id": "9cFdBWaU9CoG",
        "colab_type": "code",
        "outputId": "ac06bad2-82e6-41b2-ab46-e72fb9f164d6",
        "colab": {
          "base_uri": "https://localhost:8080/",
          "height": 258
        }
      },
      "source": [
        "from keras.models import *\n",
        "from keras.layers import *\n",
        "rnn_size = 128\n",
        "\n",
        "input_tensor = Input((height,width, 3))\n",
        "x = input_tensor\n",
        "for i in range(4):\n",
        "    x = Convolution2D(32, 3, 3, activation='relu')(x)\n",
        "    x = keras.layers.BatchNormalization(axis=-1)(x)\n",
        "    x = Convolution2D(32, 3, 3, activation='relu')(x)\n",
        "    x = keras.layers.BatchNormalization(axis=-1)(x)\n",
        "    if i <3:\n",
        "        x = MaxPooling2D(pool_size=(2, 2))(x)\n",
        "    else:\n",
        "        x = MaxPooling2D(pool_size=(2, 1))(x)\n",
        "\n",
        "\n",
        "conv_shape = x.get_shape()\n",
        "x = Reshape(target_shape=(int(conv_shape[2]), int(conv_shape[1]*conv_shape[3])))(x)\n",
        "\n",
        "x = Dense(32, activation='relu')(x)\n",
        "\n",
        "gru_1 = GRU(rnn_size, return_sequences=True, init='he_normal', name='gru1')(x)\n",
        "gru_1b = GRU(rnn_size, return_sequences=True, go_backwards=True, \n",
        "             init='he_normal', name='gru1_b')(x)\n",
        "gru1_merged = keras.layers.add([gru_1, gru_1b])\n",
        "\n",
        "gru_2 = GRU(rnn_size, return_sequences=True, init='he_normal', name='gru2')(gru1_merged)\n",
        "gru_2b = GRU(rnn_size, return_sequences=True, go_backwards=True, \n",
        "             init='he_normal', name='gru2_b')(gru1_merged)\n",
        "x = keras.layers.Concatenate()([gru_2, gru_2b])\n",
        "\n",
        "x = Dropout(0.25)(x)\n",
        "x = Dense(n_class, init='he_normal', activation='softmax')(x)\n",
        "\n",
        "base_model = Model(input=input_tensor, output=x)\n",
        "\n",
        "labels = Input(name='the_labels', shape=[n_len], dtype='float32')\n",
        "input_length = Input(name='input_length', shape=[1], dtype='int64')\n",
        "label_length = Input(name='label_length', shape=[1], dtype='int64')\n",
        "loss_out = Lambda(ctc_lambda_func, output_shape=(1,), \n",
        "                  name='ctc')([x, labels, input_length, label_length])\n",
        "\n",
        "model = Model(input=[input_tensor, labels, input_length, label_length], output=[loss_out])\n",
        "model.compile(loss={'ctc': lambda y_true, y_pred: y_pred}, optimizer='Adam')"
      ],
      "execution_count": 0,
      "outputs": [
        {
          "output_type": "stream",
          "text": [
            "/usr/local/lib/python3.6/dist-packages/ipykernel_launcher.py:8: UserWarning: Update your `Conv2D` call to the Keras 2 API: `Conv2D(32, (3, 3), activation=\"relu\")`\n",
            "  \n",
            "/usr/local/lib/python3.6/dist-packages/ipykernel_launcher.py:10: UserWarning: Update your `Conv2D` call to the Keras 2 API: `Conv2D(32, (3, 3), activation=\"relu\")`\n",
            "  # Remove the CWD from sys.path while we load stuff.\n"
          ],
          "name": "stderr"
        },
        {
          "output_type": "stream",
          "text": [
            "WARNING:tensorflow:From /usr/local/lib/python3.6/dist-packages/keras/backend/tensorflow_backend.py:4479: The name tf.truncated_normal is deprecated. Please use tf.random.truncated_normal instead.\n",
            "\n"
          ],
          "name": "stdout"
        },
        {
          "output_type": "stream",
          "text": [
            "/usr/local/lib/python3.6/dist-packages/ipykernel_launcher.py:23: UserWarning: Update your `GRU` call to the Keras 2 API: `GRU(128, return_sequences=True, name=\"gru1\", kernel_initializer=\"he_normal\")`\n",
            "/usr/local/lib/python3.6/dist-packages/ipykernel_launcher.py:25: UserWarning: Update your `GRU` call to the Keras 2 API: `GRU(128, return_sequences=True, go_backwards=True, name=\"gru1_b\", kernel_initializer=\"he_normal\")`\n",
            "/usr/local/lib/python3.6/dist-packages/ipykernel_launcher.py:28: UserWarning: Update your `GRU` call to the Keras 2 API: `GRU(128, return_sequences=True, name=\"gru2\", kernel_initializer=\"he_normal\")`\n",
            "/usr/local/lib/python3.6/dist-packages/ipykernel_launcher.py:30: UserWarning: Update your `GRU` call to the Keras 2 API: `GRU(128, return_sequences=True, go_backwards=True, name=\"gru2_b\", kernel_initializer=\"he_normal\")`\n",
            "/usr/local/lib/python3.6/dist-packages/ipykernel_launcher.py:34: UserWarning: Update your `Dense` call to the Keras 2 API: `Dense(37, activation=\"softmax\", kernel_initializer=\"he_normal\")`\n",
            "/usr/local/lib/python3.6/dist-packages/ipykernel_launcher.py:36: UserWarning: Update your `Model` call to the Keras 2 API: `Model(inputs=Tensor(\"in..., outputs=Tensor(\"de...)`\n",
            "/usr/local/lib/python3.6/dist-packages/ipykernel_launcher.py:44: UserWarning: Update your `Model` call to the Keras 2 API: `Model(inputs=[<tf.Tenso..., outputs=[<tf.Tenso...)`\n"
          ],
          "name": "stderr"
        }
      ]
    },
    {
      "cell_type": "code",
      "metadata": {
        "id": "kYUsPudC9CoR",
        "colab_type": "code",
        "outputId": "14456148-e833-40ce-8549-0f422a72db9f",
        "colab": {
          "base_uri": "https://localhost:8080/",
          "height": 1000
        }
      },
      "source": [
        "model.summary()"
      ],
      "execution_count": 0,
      "outputs": [
        {
          "output_type": "stream",
          "text": [
            "Model: \"model_4\"\n",
            "__________________________________________________________________________________________________\n",
            "Layer (type)                    Output Shape         Param #     Connected to                     \n",
            "==================================================================================================\n",
            "input_2 (InputLayer)            (None, 80, 170, 3)   0                                            \n",
            "__________________________________________________________________________________________________\n",
            "conv2d_1 (Conv2D)               (None, 78, 168, 32)  896         input_2[0][0]                    \n",
            "__________________________________________________________________________________________________\n",
            "batch_normalization_1 (BatchNor (None, 78, 168, 32)  128         conv2d_1[0][0]                   \n",
            "__________________________________________________________________________________________________\n",
            "conv2d_2 (Conv2D)               (None, 76, 166, 32)  9248        batch_normalization_1[0][0]      \n",
            "__________________________________________________________________________________________________\n",
            "batch_normalization_2 (BatchNor (None, 76, 166, 32)  128         conv2d_2[0][0]                   \n",
            "__________________________________________________________________________________________________\n",
            "max_pooling2d_5 (MaxPooling2D)  (None, 38, 83, 32)   0           batch_normalization_2[0][0]      \n",
            "__________________________________________________________________________________________________\n",
            "conv2d_3 (Conv2D)               (None, 36, 81, 32)   9248        max_pooling2d_5[0][0]            \n",
            "__________________________________________________________________________________________________\n",
            "batch_normalization_3 (BatchNor (None, 36, 81, 32)   128         conv2d_3[0][0]                   \n",
            "__________________________________________________________________________________________________\n",
            "conv2d_4 (Conv2D)               (None, 34, 79, 32)   9248        batch_normalization_3[0][0]      \n",
            "__________________________________________________________________________________________________\n",
            "batch_normalization_4 (BatchNor (None, 34, 79, 32)   128         conv2d_4[0][0]                   \n",
            "__________________________________________________________________________________________________\n",
            "max_pooling2d_6 (MaxPooling2D)  (None, 17, 39, 32)   0           batch_normalization_4[0][0]      \n",
            "__________________________________________________________________________________________________\n",
            "conv2d_5 (Conv2D)               (None, 15, 37, 32)   9248        max_pooling2d_6[0][0]            \n",
            "__________________________________________________________________________________________________\n",
            "batch_normalization_5 (BatchNor (None, 15, 37, 32)   128         conv2d_5[0][0]                   \n",
            "__________________________________________________________________________________________________\n",
            "conv2d_6 (Conv2D)               (None, 13, 35, 32)   9248        batch_normalization_5[0][0]      \n",
            "__________________________________________________________________________________________________\n",
            "batch_normalization_6 (BatchNor (None, 13, 35, 32)   128         conv2d_6[0][0]                   \n",
            "__________________________________________________________________________________________________\n",
            "max_pooling2d_7 (MaxPooling2D)  (None, 6, 17, 32)    0           batch_normalization_6[0][0]      \n",
            "__________________________________________________________________________________________________\n",
            "conv2d_7 (Conv2D)               (None, 4, 15, 32)    9248        max_pooling2d_7[0][0]            \n",
            "__________________________________________________________________________________________________\n",
            "batch_normalization_7 (BatchNor (None, 4, 15, 32)    128         conv2d_7[0][0]                   \n",
            "__________________________________________________________________________________________________\n",
            "conv2d_8 (Conv2D)               (None, 2, 13, 32)    9248        batch_normalization_7[0][0]      \n",
            "__________________________________________________________________________________________________\n",
            "batch_normalization_8 (BatchNor (None, 2, 13, 32)    128         conv2d_8[0][0]                   \n",
            "__________________________________________________________________________________________________\n",
            "max_pooling2d_8 (MaxPooling2D)  (None, 1, 13, 32)    0           batch_normalization_8[0][0]      \n",
            "__________________________________________________________________________________________________\n",
            "reshape_2 (Reshape)             (None, 13, 32)       0           max_pooling2d_8[0][0]            \n",
            "__________________________________________________________________________________________________\n",
            "dense_3 (Dense)                 (None, 13, 32)       1056        reshape_2[0][0]                  \n",
            "__________________________________________________________________________________________________\n",
            "gru1 (GRU)                      (None, 13, 128)      61824       dense_3[0][0]                    \n",
            "__________________________________________________________________________________________________\n",
            "gru1_b (GRU)                    (None, 13, 128)      61824       dense_3[0][0]                    \n",
            "__________________________________________________________________________________________________\n",
            "add_1 (Add)                     (None, 13, 128)      0           gru1[0][0]                       \n",
            "                                                                 gru1_b[0][0]                     \n",
            "__________________________________________________________________________________________________\n",
            "gru2 (GRU)                      (None, 13, 128)      98688       add_1[0][0]                      \n",
            "__________________________________________________________________________________________________\n",
            "gru2_b (GRU)                    (None, 13, 128)      98688       add_1[0][0]                      \n",
            "__________________________________________________________________________________________________\n",
            "concatenate_1 (Concatenate)     (None, 13, 256)      0           gru2[0][0]                       \n",
            "                                                                 gru2_b[0][0]                     \n",
            "__________________________________________________________________________________________________\n",
            "dropout_2 (Dropout)             (None, 13, 256)      0           concatenate_1[0][0]              \n",
            "__________________________________________________________________________________________________\n",
            "dense_4 (Dense)                 (None, 13, 37)       9509        dropout_2[0][0]                  \n",
            "__________________________________________________________________________________________________\n",
            "the_labels (InputLayer)         (None, 4)            0                                            \n",
            "__________________________________________________________________________________________________\n",
            "input_length (InputLayer)       (None, 1)            0                                            \n",
            "__________________________________________________________________________________________________\n",
            "label_length (InputLayer)       (None, 1)            0                                            \n",
            "__________________________________________________________________________________________________\n",
            "ctc (Lambda)                    (None, 1)            0           dense_4[0][0]                    \n",
            "                                                                 the_labels[0][0]                 \n",
            "                                                                 input_length[0][0]               \n",
            "                                                                 label_length[0][0]               \n",
            "==================================================================================================\n",
            "Total params: 398,245\n",
            "Trainable params: 397,733\n",
            "Non-trainable params: 512\n",
            "__________________________________________________________________________________________________\n"
          ],
          "name": "stdout"
        }
      ]
    },
    {
      "cell_type": "code",
      "metadata": {
        "id": "OnrM8qOFNLqB",
        "colab_type": "code",
        "outputId": "e7024983-d4ab-49fe-8de2-a3482522b02f",
        "colab": {
          "base_uri": "https://localhost:8080/",
          "height": 1000
        }
      },
      "source": [
        "model.fit_generator(gen(32), steps_per_epoch=300, epochs=60)"
      ],
      "execution_count": 0,
      "outputs": [
        {
          "output_type": "stream",
          "text": [
            "Epoch 1/60\n",
            "300/300 [==============================] - 49s 162ms/step - loss: 14.3050\n",
            "Epoch 2/60\n",
            "300/300 [==============================] - 45s 150ms/step - loss: 5.3457\n",
            "Epoch 3/60\n",
            "300/300 [==============================] - 45s 150ms/step - loss: 3.0677\n",
            "Epoch 4/60\n",
            "300/300 [==============================] - 45s 150ms/step - loss: 2.3014\n",
            "Epoch 5/60\n",
            "300/300 [==============================] - 45s 150ms/step - loss: 1.8900\n",
            "Epoch 6/60\n",
            "300/300 [==============================] - 45s 152ms/step - loss: 1.6421\n",
            "Epoch 7/60\n",
            "300/300 [==============================] - 45s 150ms/step - loss: 1.4238\n",
            "Epoch 8/60\n",
            "300/300 [==============================] - 45s 150ms/step - loss: 1.2644\n",
            "Epoch 9/60\n",
            "300/300 [==============================] - 45s 151ms/step - loss: 1.1557\n",
            "Epoch 10/60\n",
            "300/300 [==============================] - 45s 150ms/step - loss: 1.1168\n",
            "Epoch 11/60\n",
            "300/300 [==============================] - 45s 149ms/step - loss: 1.0002\n",
            "Epoch 12/60\n",
            "300/300 [==============================] - 45s 150ms/step - loss: 0.9362\n",
            "Epoch 13/60\n",
            "300/300 [==============================] - 45s 150ms/step - loss: 0.8686\n",
            "Epoch 14/60\n",
            "300/300 [==============================] - 45s 149ms/step - loss: 0.8407\n",
            "Epoch 15/60\n",
            "300/300 [==============================] - 45s 149ms/step - loss: 0.8091\n",
            "Epoch 16/60\n",
            "300/300 [==============================] - 45s 150ms/step - loss: 0.8025\n",
            "Epoch 17/60\n",
            "300/300 [==============================] - 45s 150ms/step - loss: 0.7945\n",
            "Epoch 18/60\n",
            "300/300 [==============================] - 45s 150ms/step - loss: 0.7147\n",
            "Epoch 19/60\n",
            "300/300 [==============================] - 45s 150ms/step - loss: 0.6810\n",
            "Epoch 20/60\n",
            "300/300 [==============================] - 45s 150ms/step - loss: 0.6478\n",
            "Epoch 21/60\n",
            "300/300 [==============================] - 45s 150ms/step - loss: 0.6282\n",
            "Epoch 22/60\n",
            "300/300 [==============================] - 45s 151ms/step - loss: 0.7039\n",
            "Epoch 23/60\n",
            "300/300 [==============================] - 45s 151ms/step - loss: 0.6109\n",
            "Epoch 24/60\n",
            "300/300 [==============================] - 45s 151ms/step - loss: 0.6533\n",
            "Epoch 25/60\n",
            "300/300 [==============================] - 45s 150ms/step - loss: 0.5765\n",
            "Epoch 26/60\n",
            "300/300 [==============================] - 45s 150ms/step - loss: 0.5662\n",
            "Epoch 27/60\n",
            "300/300 [==============================] - 45s 150ms/step - loss: 0.5364\n",
            "Epoch 28/60\n",
            "300/300 [==============================] - 45s 149ms/step - loss: 0.4965\n",
            "Epoch 29/60\n",
            "300/300 [==============================] - 45s 151ms/step - loss: 0.5527\n",
            "Epoch 30/60\n",
            "300/300 [==============================] - 45s 150ms/step - loss: 0.5500\n",
            "Epoch 31/60\n",
            "300/300 [==============================] - 45s 149ms/step - loss: 0.5450\n",
            "Epoch 32/60\n",
            "300/300 [==============================] - 45s 150ms/step - loss: 0.5235\n",
            "Epoch 33/60\n",
            "300/300 [==============================] - 45s 151ms/step - loss: 0.4918\n",
            "Epoch 34/60\n",
            "300/300 [==============================] - 45s 151ms/step - loss: 0.4606\n",
            "Epoch 35/60\n",
            "300/300 [==============================] - 45s 150ms/step - loss: 0.5711\n",
            "Epoch 36/60\n",
            "300/300 [==============================] - 45s 150ms/step - loss: 0.5018\n",
            "Epoch 37/60\n",
            "300/300 [==============================] - 45s 151ms/step - loss: 0.4722\n",
            "Epoch 38/60\n",
            "300/300 [==============================] - 45s 150ms/step - loss: 0.4937\n",
            "Epoch 39/60\n",
            "300/300 [==============================] - 45s 150ms/step - loss: 0.4139\n",
            "Epoch 40/60\n",
            "300/300 [==============================] - 45s 150ms/step - loss: 0.4438\n",
            "Epoch 41/60\n",
            "300/300 [==============================] - 45s 151ms/step - loss: 0.4309\n",
            "Epoch 42/60\n",
            "300/300 [==============================] - 45s 150ms/step - loss: 0.4285\n",
            "Epoch 43/60\n",
            "300/300 [==============================] - 45s 151ms/step - loss: 0.4035\n",
            "Epoch 44/60\n",
            "300/300 [==============================] - 45s 150ms/step - loss: 0.4058\n",
            "Epoch 45/60\n",
            "300/300 [==============================] - 45s 150ms/step - loss: 0.4004\n",
            "Epoch 46/60\n",
            "300/300 [==============================] - 45s 150ms/step - loss: 0.4366\n",
            "Epoch 47/60\n",
            "300/300 [==============================] - 45s 150ms/step - loss: 0.4257\n",
            "Epoch 48/60\n",
            "300/300 [==============================] - 45s 150ms/step - loss: 0.4025\n",
            "Epoch 49/60\n",
            "300/300 [==============================] - 45s 150ms/step - loss: 0.4287\n",
            "Epoch 50/60\n",
            "300/300 [==============================] - 45s 151ms/step - loss: 0.4721\n",
            "Epoch 51/60\n",
            "300/300 [==============================] - 45s 150ms/step - loss: 0.4294\n",
            "Epoch 52/60\n",
            "300/300 [==============================] - 45s 151ms/step - loss: 0.4380\n",
            "Epoch 53/60\n",
            "300/300 [==============================] - 45s 149ms/step - loss: 0.4359\n",
            "Epoch 54/60\n",
            "300/300 [==============================] - 45s 150ms/step - loss: 0.3950\n",
            "Epoch 55/60\n",
            "300/300 [==============================] - 45s 150ms/step - loss: 0.3893\n",
            "Epoch 56/60\n",
            "300/300 [==============================] - 45s 151ms/step - loss: 0.3737\n",
            "Epoch 57/60\n",
            "300/300 [==============================] - 45s 150ms/step - loss: 0.3572\n",
            "Epoch 58/60\n",
            "300/300 [==============================] - 46s 152ms/step - loss: 0.3647\n",
            "Epoch 59/60\n",
            "300/300 [==============================] - 45s 150ms/step - loss: 0.3334\n",
            "Epoch 60/60\n",
            "300/300 [==============================] - 45s 150ms/step - loss: 0.3768\n"
          ],
          "name": "stdout"
        },
        {
          "output_type": "execute_result",
          "data": {
            "text/plain": [
              "<keras.callbacks.History at 0x7f584747fb70>"
            ]
          },
          "metadata": {
            "tags": []
          },
          "execution_count": 24
        }
      ]
    },
    {
      "cell_type": "code",
      "metadata": {
        "colab_type": "code",
        "outputId": "113dee81-a0cf-42ed-b273-9fbee15b30b7",
        "id": "g6uN7ZFVJ1m_",
        "colab": {
          "base_uri": "https://localhost:8080/",
          "height": 234
        }
      },
      "source": [
        "characters2 = characters + ' '\n",
        "[X_test, y_test, _, _], _  = next(gen(1))\n",
        "y_pred = base_model.predict(X_test)\n",
        "##用ctc_decode得到解答，自己寫可以參考下方\n",
        "out = K.get_value(K.ctc_decode(y_pred, input_length=np.ones(y_pred.shape[0])*y_pred.shape[1], )[0][0])\n",
        "out = ''.join([characters[x] for x in out[0]])\n",
        "y_true = ''.join([characters[x] for x in y_test[0]])\n",
        "\n",
        "plt.imshow(X_test[0])\n",
        "plt.title('pred:' + str(out) + '\\ntrue: ' + str(y_true))\n",
        "\n",
        "argmax = np.argmax(y_pred, axis=2)[0]\n"
      ],
      "execution_count": 0,
      "outputs": [
        {
          "output_type": "display_data",
          "data": {
            "image/png": "[encoded data removed]",
            "text/plain": [
              "<Figure size 432x288 with 1 Axes>"
            ]
          },
          "metadata": {
            "tags": [],
            "image/png": {
              "width": 369,
              "height": 217
            }
          }
        }
      ]
    },
    {
      "cell_type": "code",
      "metadata": {
        "id": "2hM5ewswHZlc",
        "colab_type": "code",
        "cellView": "form",
        "colab": {}
      },
      "source": [
        "#@title\n"
      ],
      "execution_count": 0,
      "outputs": []
    }
  ]
}