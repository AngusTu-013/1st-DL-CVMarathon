{
 "cells": [
  {
   "cell_type": "markdown",
   "metadata": {
    "colab_type": "text",
    "id": "uSQPjVof9Ckr"
   },
   "source": [
    "## 『本次練習內容』\n",
    "#### 搭建一個能識別驗證碼的模型(CNN+CTC)"
   ]
  },
  {
   "cell_type": "markdown",
   "metadata": {
    "colab_type": "text",
    "id": "egLdBI6l9Ck1"
   },
   "source": [
    "## 『本次練習目的』\n",
    "  #### 了解如何結合CNN與CTC Loss\n",
    "  #### 有時間學員也可以延伸閱讀CNN+RNN+CTC模型\n",
    "  #### 沒有GPU的學員可以使用Colab，可以參考問答區的文章"
   ]
  },
  {
   "cell_type": "code",
   "execution_count": 0,
   "metadata": {
    "colab": {
     "base_uri": "https://localhost:8080/",
     "height": 306
    },
    "colab_type": "code",
    "executionInfo": {
     "elapsed": 3561,
     "status": "ok",
     "timestamp": 1577191783251,
     "user": {
      "displayName": "Tu Angus",
      "photoUrl": "",
      "userId": "13639675632472162428"
     },
     "user_tz": -480
    },
    "id": "w1xQe7259Ck5",
    "outputId": "976f227d-2bf4-4108-da51-b5ab69b7f162"
   },
   "outputs": [
    {
     "name": "stdout",
     "output_type": "stream",
     "text": [
      "Tue Dec 24 12:49:41 2019       \n",
      "+-----------------------------------------------------------------------------+\n",
      "| NVIDIA-SMI 440.44       Driver Version: 418.67       CUDA Version: 10.1     |\n",
      "|-------------------------------+----------------------+----------------------+\n",
      "| GPU  Name        Persistence-M| Bus-Id        Disp.A | Volatile Uncorr. ECC |\n",
      "| Fan  Temp  Perf  Pwr:Usage/Cap|         Memory-Usage | GPU-Util  Compute M. |\n",
      "|===============================+======================+======================|\n",
      "|   0  Tesla P100-PCIE...  Off  | 00000000:00:04.0 Off |                    0 |\n",
      "| N/A   35C    P0    28W / 250W |      0MiB / 16280MiB |      0%      Default |\n",
      "+-------------------------------+----------------------+----------------------+\n",
      "                                                                               \n",
      "+-----------------------------------------------------------------------------+\n",
      "| Processes:                                                       GPU Memory |\n",
      "|  GPU       PID   Type   Process name                             Usage      |\n",
      "|=============================================================================|\n",
      "|  No running processes found                                                 |\n",
      "+-----------------------------------------------------------------------------+\n"
     ]
    }
   ],
   "source": [
    "## 使用Colab可先run這裡的code\n",
    "#假如要連結自己的雲端硬碟再開啟\n",
    "#from google.colab import drive\n",
    "#drive.mount('/content/gdrive')\n",
    "#檢查GPU\n",
    "!nvidia-smi\n",
    "##安裝產生驗證碼的套件"
   ]
  },
  {
   "cell_type": "code",
   "execution_count": 0,
   "metadata": {
    "colab": {
     "base_uri": "https://localhost:8080/",
     "height": 258
    },
    "colab_type": "code",
    "executionInfo": {
     "elapsed": 15285,
     "status": "ok",
     "timestamp": 1577191817732,
     "user": {
      "displayName": "Tu Angus",
      "photoUrl": "",
      "userId": "13639675632472162428"
     },
     "user_tz": -480
    },
    "id": "9z8jVv3a9ClM",
    "outputId": "f5fb7647-3e16-4047-8fcf-c36248d124a0"
   },
   "outputs": [
    {
     "name": "stdout",
     "output_type": "stream",
     "text": [
      "Collecting gputil\n",
      "  Downloading https://files.pythonhosted.org/packages/ed/0e/5c61eedde9f6c87713e89d794f01e378cfd9565847d4576fa627d758c554/GPUtil-1.4.0.tar.gz\n",
      "Building wheels for collected packages: gputil\n",
      "  Building wheel for gputil (setup.py) ... \u001b[?25l\u001b[?25hdone\n",
      "  Created wheel for gputil: filename=GPUtil-1.4.0-cp36-none-any.whl size=7410 sha256=d15e5a85a9043d802a4cb862d55485c88f5e1cc94b7a19a4461c8ef4d88c8abd\n",
      "  Stored in directory: /root/.cache/pip/wheels/3d/77/07/80562de4bb0786e5ea186911a2c831fdd0018bda69beab71fd\n",
      "Successfully built gputil\n",
      "Installing collected packages: gputil\n",
      "Successfully installed gputil-1.4.0\n",
      "Requirement already satisfied: psutil in /usr/local/lib/python3.6/dist-packages (5.4.8)\n",
      "Requirement already satisfied: humanize in /usr/local/lib/python3.6/dist-packages (0.5.1)\n",
      "Gen RAM Free: 12.8 GB  | Proc size: 156.3 MB\n",
      "GPU RAM Free: 16280MB | Used: 0MB | Util   0% | Total 16280MB\n"
     ]
    }
   ],
   "source": [
    "!ln -sf /opt/bin/nvidia-smi /usr/bin/nvidia-smi\n",
    "!pip install gputil\n",
    "!pip install psutil\n",
    "!pip install humanize\n",
    "import psutil\n",
    "import humanize\n",
    "import os\n",
    "import GPUtil as GPU\n",
    "GPUs = GPU.getGPUs()\n",
    "#print(GPUs)\n",
    "gpu = GPUs[0]\n",
    "\n",
    "def printGPU():\n",
    "  process = psutil.Process(os.getpid())\n",
    "  print(\"Gen RAM Free: \" + humanize.naturalsize( psutil.virtual_memory().available ), \" | Proc size: \" + humanize.naturalsize( process.memory_info().rss))\n",
    "  print(\"GPU RAM Free: {0:.0f}MB | Used: {1:.0f}MB | Util {2:3.0f}% | Total {3:.0f}MB\".format(gpu.memoryFree, gpu.memoryUsed, gpu.memoryUtil*100, gpu.memoryTotal))\n",
    "  \n",
    "printGPU()"
   ]
  },
  {
   "cell_type": "markdown",
   "metadata": {
    "colab_type": "text",
    "id": "Iw2mQJwc9ClY"
   },
   "source": [
    "## 記得先 pip install captcha"
   ]
  },
  {
   "cell_type": "code",
   "execution_count": 0,
   "metadata": {
    "colab": {
     "base_uri": "https://localhost:8080/",
     "height": 156
    },
    "colab_type": "code",
    "executionInfo": {
     "elapsed": 4865,
     "status": "ok",
     "timestamp": 1577191833823,
     "user": {
      "displayName": "Tu Angus",
      "photoUrl": "",
      "userId": "13639675632472162428"
     },
     "user_tz": -480
    },
    "id": "AxGi02yvx1Go",
    "outputId": "b6c90875-ea46-45bb-85b6-931191a6a5ec"
   },
   "outputs": [
    {
     "name": "stdout",
     "output_type": "stream",
     "text": [
      "Collecting captcha\n",
      "\u001b[?25l  Downloading https://files.pythonhosted.org/packages/90/fe/d4ddf1e6576073b5eaea76e9b2afa022c626212a30c871968480be3ccb7b/captcha-0.3-py3-none-any.whl (101kB)\n",
      "\r",
      "\u001b[K     |███▎                            | 10kB 27.8MB/s eta 0:00:01\r",
      "\u001b[K     |██████▌                         | 20kB 6.6MB/s eta 0:00:01\r",
      "\u001b[K     |█████████▊                      | 30kB 8.4MB/s eta 0:00:01\r",
      "\u001b[K     |█████████████                   | 40kB 7.7MB/s eta 0:00:01\r",
      "\u001b[K     |████████████████▏               | 51kB 7.4MB/s eta 0:00:01\r",
      "\u001b[K     |███████████████████▍            | 61kB 7.7MB/s eta 0:00:01\r",
      "\u001b[K     |██████████████████████▋         | 71kB 8.3MB/s eta 0:00:01\r",
      "\u001b[K     |█████████████████████████▉      | 81kB 9.2MB/s eta 0:00:01\r",
      "\u001b[K     |█████████████████████████████   | 92kB 9.3MB/s eta 0:00:01\r",
      "\u001b[K     |████████████████████████████████| 102kB 6.1MB/s \n",
      "\u001b[?25hRequirement already satisfied: Pillow in /usr/local/lib/python3.6/dist-packages (from captcha) (4.3.0)\n",
      "Requirement already satisfied: olefile in /usr/local/lib/python3.6/dist-packages (from Pillow->captcha) (0.46)\n",
      "Installing collected packages: captcha\n",
      "Successfully installed captcha-0.3\n"
     ]
    }
   ],
   "source": [
    "pip install captcha"
   ]
  },
  {
   "cell_type": "markdown",
   "metadata": {
    "colab_type": "text",
    "id": "iYn-4x4g9Clp"
   },
   "source": [
    "## 產生驗證碼"
   ]
  },
  {
   "cell_type": "code",
   "execution_count": 0,
   "metadata": {
    "colab": {
     "base_uri": "https://localhost:8080/",
     "height": 254
    },
    "colab_type": "code",
    "executionInfo": {
     "elapsed": 1382,
     "status": "ok",
     "timestamp": 1577191843452,
     "user": {
      "displayName": "Tu Angus",
      "photoUrl": "",
      "userId": "13639675632472162428"
     },
     "user_tz": -480
    },
    "id": "h2VVCBKwk6Zv",
    "outputId": "21d29141-23dc-4115-dd34-352572c54de4"
   },
   "outputs": [
    {
     "name": "stdout",
     "output_type": "stream",
     "text": [
      "0123456789ABCDEFGHIJKLMNOPQRSTUVWXYZ\n"
     ]
    },
    {
     "data": {
      "text/plain": [
       "Text(0.5, 1.0, 'UKTL')"
      ]
     },
     "execution_count": 4,
     "metadata": {
      "tags": []
     },
     "output_type": "execute_result"
    },
    {
     "data": {
      "image/png": "[encoded data removed]",
      "text/plain": [
       "<Figure size 432x288 with 1 Axes>"
      ]
     },
     "metadata": {
      "image/png": {
       "height": 203,
       "width": 369
      },
      "tags": []
     },
     "output_type": "display_data"
    }
   ],
   "source": [
    "from captcha.image import ImageCaptcha\n",
    "import matplotlib.pyplot as plt\n",
    "import numpy as np\n",
    "import random\n",
    "\n",
    "%matplotlib inline\n",
    "%config InlineBackend.figure_format = 'retina'\n",
    "\n",
    "import string\n",
    "##驗證碼包含0-10數字以及26個英文字母\n",
    "characters = string.digits + string.ascii_uppercase\n",
    "print(characters)\n",
    "\n",
    "##設定產生圖片尺寸，以及總類別，n_class之所以要加一是為了留一個位置給Blank\n",
    "width, height, n_len, n_class = 170, 80, 4, len(characters)+1\n",
    "\n",
    "##設定產生驗證碼的generator\n",
    "generator = ImageCaptcha(width=width, height=height)\n",
    "\n",
    "##我們先練習固定長度4個字的驗證碼\n",
    "random_str = ''.join([random.choice(characters) for j in range(4)])\n",
    "img = generator.generate_image(random_str)\n",
    "\n",
    "plt.imshow(img)\n",
    "plt.title(random_str)"
   ]
  },
  {
   "cell_type": "markdown",
   "metadata": {
    "colab_type": "text",
    "id": "Gf1fMHuU9Cl2"
   },
   "source": [
    "## 自己搭建一個CNN模型使得output feature Map 高度被壓縮成小於4，8<寬度<20\n",
    "#### 解答的output feature Map 為 (batch_size,1,13,32)"
   ]
  },
  {
   "cell_type": "code",
   "execution_count": 0,
   "metadata": {
    "colab": {
     "base_uri": "https://localhost:8080/",
     "height": 34
    },
    "colab_type": "code",
    "executionInfo": {
     "elapsed": 1029,
     "status": "ok",
     "timestamp": 1577191849237,
     "user": {
      "displayName": "Tu Angus",
      "photoUrl": "",
      "userId": "13639675632472162428"
     },
     "user_tz": -480
    },
    "id": "HceDg5tF9Cl5",
    "outputId": "7ffa2f14-f2ec-4652-da16-4636873aebfd"
   },
   "outputs": [
    {
     "name": "stdout",
     "output_type": "stream",
     "text": [
      "80 170\n"
     ]
    }
   ],
   "source": [
    "print(height, width)"
   ]
  },
  {
   "cell_type": "code",
   "execution_count": 26,
   "metadata": {
    "colab": {
     "base_uri": "https://localhost:8080/",
     "height": 1000
    },
    "colab_type": "code",
    "executionInfo": {
     "elapsed": 945,
     "status": "ok",
     "timestamp": 1577253289485,
     "user": {
      "displayName": "Tu Angus",
      "photoUrl": "",
      "userId": "13639675632472162428"
     },
     "user_tz": -480
    },
    "id": "BLzS_XYz9CmG",
    "outputId": "423a3fdb-1bf4-487c-e18b-0ba392bedca7"
   },
   "outputs": [
    {
     "name": "stdout",
     "output_type": "stream",
     "text": [
      "Model: \"model_5\"\n",
      "_________________________________________________________________\n",
      "Layer (type)                 Output Shape              Param #   \n",
      "=================================================================\n",
      "input_3 (InputLayer)         (None, 80, 170, 3)        0         \n",
      "_________________________________________________________________\n",
      "block1_conv_1_1 (Conv2D)     (None, 80, 170, 64)       1792      \n",
      "_________________________________________________________________\n",
      "block1_conv_1_2 (Conv2D)     (None, 80, 170, 64)       36928     \n",
      "_________________________________________________________________\n",
      "block1_bn_1 (BatchNormalizat (None, 80, 170, 64)       256       \n",
      "_________________________________________________________________\n",
      "activation_5 (Activation)    (None, 80, 170, 64)       0         \n",
      "_________________________________________________________________\n",
      "max_pooling2d_9 (MaxPooling2 (None, 40, 85, 64)        0         \n",
      "_________________________________________________________________\n",
      "block2_conv_1_1 (Conv2D)     (None, 40, 85, 128)       73856     \n",
      "_________________________________________________________________\n",
      "block2_conv_1_2 (Conv2D)     (None, 40, 85, 128)       147584    \n",
      "_________________________________________________________________\n",
      "block2_bn_1 (BatchNormalizat (None, 40, 85, 128)       512       \n",
      "_________________________________________________________________\n",
      "activation_6 (Activation)    (None, 40, 85, 128)       0         \n",
      "_________________________________________________________________\n",
      "max_pooling2d_10 (MaxPooling (None, 20, 42, 128)       0         \n",
      "_________________________________________________________________\n",
      "block3_conv_1_1 (Conv2D)     (None, 20, 42, 256)       295168    \n",
      "_________________________________________________________________\n",
      "block3_conv_1_2 (Conv2D)     (None, 20, 42, 256)       590080    \n",
      "_________________________________________________________________\n",
      "block3_bn_1 (BatchNormalizat (None, 20, 42, 256)       1024      \n",
      "_________________________________________________________________\n",
      "activation_7 (Activation)    (None, 20, 42, 256)       0         \n",
      "_________________________________________________________________\n",
      "max_pooling2d_11 (MaxPooling (None, 10, 21, 256)       0         \n",
      "_________________________________________________________________\n",
      "block4_conv_1_1 (Conv2D)     (None, 10, 21, 512)       1180160   \n",
      "_________________________________________________________________\n",
      "block4_conv_1_2 (Conv2D)     (None, 10, 21, 512)       2359808   \n",
      "_________________________________________________________________\n",
      "block4_bn_1 (BatchNormalizat (None, 10, 21, 512)       2048      \n",
      "_________________________________________________________________\n",
      "activation_8 (Activation)    (None, 10, 21, 512)       0         \n",
      "_________________________________________________________________\n",
      "max_pooling2d_12 (MaxPooling (None, 5, 10, 512)        0         \n",
      "_________________________________________________________________\n",
      "reshape_3 (Reshape)          (None, 10, 2560)          0         \n",
      "_________________________________________________________________\n",
      "dense_5 (Dense)              (None, 10, 32)            81952     \n",
      "_________________________________________________________________\n",
      "dropout_3 (Dropout)          (None, 10, 32)            0         \n",
      "_________________________________________________________________\n",
      "dense_6 (Dense)              (None, 10, 37)            1221      \n",
      "=================================================================\n",
      "Total params: 4,772,389\n",
      "Trainable params: 4,770,469\n",
      "Non-trainable params: 1,920\n",
      "_________________________________________________________________\n",
      "None\n"
     ]
    },
    {
     "name": "stderr",
     "output_type": "stream",
     "text": [
      "/usr/local/lib/python3.6/dist-packages/ipykernel_launcher.py:49: UserWarning: Update your `Model` call to the Keras 2 API: `Model(inputs=Tensor(\"in..., outputs=Tensor(\"de...)`\n"
     ]
    }
   ],
   "source": [
    "from keras.models import *\n",
    "from keras.layers import *\n",
    "rnn_size = 128\n",
    "\n",
    "input_tensor = Input((height,width, 3))\n",
    "x = input_tensor\n",
    "\n",
    "'''自己設計CNN層'''\n",
    "\n",
    "x = Convolution2D(filters=32, kernel_size=(3,3), padding='same',name='block1_conv_1_1')(x)\n",
    "x = Convolution2D(filters=32, kernel_size=(3,3), padding='same',name='block1_conv_1_2')(x)\n",
    "x = BatchNormalization(name='block1_bn_1')(x)\n",
    "x = Activation('relu')(x)\n",
    "x = MaxPooling2D(pool_size=(2,2))(x)\n",
    "\n",
    "x = Convolution2D(filters=32, kernel_size=(3,3), padding='same',name='block2_conv_1_1')(x)\n",
    "x = Convolution2D(filters=32, kernel_size=(3,3), padding='same',name='block2_conv_1_2')(x)\n",
    "x = BatchNormalization(name='block2_bn_1')(x)\n",
    "x = Activation('relu')(x)\n",
    "x = MaxPooling2D(pool_size=(2,2))(x)\n",
    "\n",
    "x = Convolution2D(filters=32, kernel_size=(3,3), padding='same',name='block3_conv_1_1')(x)\n",
    "x = Convolution2D(filters=32, kernel_size=(3,3), padding='same',name='block3_conv_1_2')(x)\n",
    "x = BatchNormalization(name='block3_bn_1')(x)\n",
    "x = Activation('relu')(x)\n",
    "x = MaxPooling2D(pool_size=(2,2))(x)\n",
    "\n",
    "x = Convolution2D(filters=32, kernel_size=(3,3), padding='same',name='block4_conv_1_1')(x)\n",
    "x = Convolution2D(filters=32, kernel_size=(3,3), padding='same',name='block4_conv_1_2')(x)\n",
    "x = BatchNormalization(name='block4_bn_1')(x)\n",
    "x = Activation('relu')(x)\n",
    "x = MaxPooling2D(pool_size=(2,2))(x)\n",
    "\n",
    "\n",
    "##記錄輸出CNN尺寸，loss部分需要這個資訊\n",
    "##conv_shape=(Batch_size,輸出高度,輸出寬度,輸出深度)\n",
    "conv_shape = x.get_shape()\n",
    "\n",
    "##從(Batch_size,輸出高度,輸出寬度,輸出深度)變成(Batch_size,輸出寬度,輸出深度*輸出高度)，以符合ctc loss需求\n",
    "x = Reshape(target_shape=(int(conv_shape[2]), int(conv_shape[1]*conv_shape[3])))(x)\n",
    "\n",
    "x = Dense(32, activation='relu')(x)\n",
    "\n",
    "x = Dropout(0.25)(x)\n",
    "x = Dense(n_class, activation='softmax')(x)\n",
    "\n",
    "\n",
    "##包裝用來預測的model\n",
    "base_model = Model(input=input_tensor, output=x)\n",
    "\n",
    "print(base_model.summary())"
   ]
  },
  {
   "cell_type": "code",
   "execution_count": 0,
   "metadata": {
    "colab": {},
    "colab_type": "code",
    "collapsed": true,
    "id": "ZySBs9Fj9Cml"
   },
   "outputs": [],
   "source": [
    "from keras import backend as K\n",
    "import keras\n",
    "\n",
    "##CTC Loss需要四個資訊，分別是\n",
    "## Label\n",
    "## 預測\n",
    "## CNN OUTPUT寬度\n",
    "## 預測影像所包含文字長度\n",
    "def ctc_lambda_func(args):\n",
    "    y_pred, labels, input_length, label_length = args\n",
    "    return K.ctc_batch_cost(labels, y_pred, input_length, label_length)"
   ]
  },
  {
   "cell_type": "code",
   "execution_count": 28,
   "metadata": {
    "colab": {
     "base_uri": "https://localhost:8080/",
     "height": 71
    },
    "colab_type": "code",
    "executionInfo": {
     "elapsed": 1124,
     "status": "ok",
     "timestamp": 1577253302299,
     "user": {
      "displayName": "Tu Angus",
      "photoUrl": "",
      "userId": "13639675632472162428"
     },
     "user_tz": -480
    },
    "id": "KX3Jq1sClGGn",
    "outputId": "a3256084-5443-46ac-e498-c33b6865db26"
   },
   "outputs": [
    {
     "name": "stderr",
     "output_type": "stream",
     "text": [
      "/usr/local/lib/python3.6/dist-packages/ipykernel_launcher.py:8: UserWarning: Update your `Model` call to the Keras 2 API: `Model(inputs=[<tf.Tenso..., outputs=[<tf.Tenso...)`\n",
      "  \n"
     ]
    }
   ],
   "source": [
    "##設定要給CTC Loss的資訊\n",
    "labels = Input(name='the_labels', shape=[n_len], dtype='float32')\n",
    "input_length = Input(name='input_length', shape=[1], dtype='int64')\n",
    "label_length = Input(name='label_length', shape=[1], dtype='int64')\n",
    "loss_out = Lambda(ctc_lambda_func, output_shape=(1,), \n",
    "                  name='ctc')([x, labels, input_length, label_length])\n",
    "\n",
    "##這裡的model是用來計算loss\n",
    "model = Model(input=[input_tensor, labels, input_length, label_length], output=[loss_out])\n",
    "\n",
    "##之所以要lambda y_true, y_pred: y_pred是因為我們的loss已經包在網路裡，會output:y_true, y_pred，而我們只需要y_pred\n",
    "model.compile(loss={'ctc': lambda y_true, y_pred: y_pred}, optimizer='SGD')"
   ]
  },
  {
   "cell_type": "code",
   "execution_count": 30,
   "metadata": {
    "colab": {
     "base_uri": "https://localhost:8080/",
     "height": 1000
    },
    "colab_type": "code",
    "executionInfo": {
     "elapsed": 1062,
     "status": "ok",
     "timestamp": 1577253318198,
     "user": {
      "displayName": "Tu Angus",
      "photoUrl": "",
      "userId": "13639675632472162428"
     },
     "user_tz": -480
    },
    "id": "m1YRv0TVN_FL",
    "outputId": "7f03957e-92e5-4a97-b449-67af8627402f"
   },
   "outputs": [
    {
     "name": "stdout",
     "output_type": "stream",
     "text": [
      "Model: \"model_6\"\n",
      "__________________________________________________________________________________________________\n",
      "Layer (type)                    Output Shape         Param #     Connected to                     \n",
      "==================================================================================================\n",
      "input_3 (InputLayer)            (None, 80, 170, 3)   0                                            \n",
      "__________________________________________________________________________________________________\n",
      "block1_conv_1_1 (Conv2D)        (None, 80, 170, 64)  1792        input_3[0][0]                    \n",
      "__________________________________________________________________________________________________\n",
      "block1_conv_1_2 (Conv2D)        (None, 80, 170, 64)  36928       block1_conv_1_1[0][0]            \n",
      "__________________________________________________________________________________________________\n",
      "block1_bn_1 (BatchNormalization (None, 80, 170, 64)  256         block1_conv_1_2[0][0]            \n",
      "__________________________________________________________________________________________________\n",
      "activation_5 (Activation)       (None, 80, 170, 64)  0           block1_bn_1[0][0]                \n",
      "__________________________________________________________________________________________________\n",
      "max_pooling2d_9 (MaxPooling2D)  (None, 40, 85, 64)   0           activation_5[0][0]               \n",
      "__________________________________________________________________________________________________\n",
      "block2_conv_1_1 (Conv2D)        (None, 40, 85, 128)  73856       max_pooling2d_9[0][0]            \n",
      "__________________________________________________________________________________________________\n",
      "block2_conv_1_2 (Conv2D)        (None, 40, 85, 128)  147584      block2_conv_1_1[0][0]            \n",
      "__________________________________________________________________________________________________\n",
      "block2_bn_1 (BatchNormalization (None, 40, 85, 128)  512         block2_conv_1_2[0][0]            \n",
      "__________________________________________________________________________________________________\n",
      "activation_6 (Activation)       (None, 40, 85, 128)  0           block2_bn_1[0][0]                \n",
      "__________________________________________________________________________________________________\n",
      "max_pooling2d_10 (MaxPooling2D) (None, 20, 42, 128)  0           activation_6[0][0]               \n",
      "__________________________________________________________________________________________________\n",
      "block3_conv_1_1 (Conv2D)        (None, 20, 42, 256)  295168      max_pooling2d_10[0][0]           \n",
      "__________________________________________________________________________________________________\n",
      "block3_conv_1_2 (Conv2D)        (None, 20, 42, 256)  590080      block3_conv_1_1[0][0]            \n",
      "__________________________________________________________________________________________________\n",
      "block3_bn_1 (BatchNormalization (None, 20, 42, 256)  1024        block3_conv_1_2[0][0]            \n",
      "__________________________________________________________________________________________________\n",
      "activation_7 (Activation)       (None, 20, 42, 256)  0           block3_bn_1[0][0]                \n",
      "__________________________________________________________________________________________________\n",
      "max_pooling2d_11 (MaxPooling2D) (None, 10, 21, 256)  0           activation_7[0][0]               \n",
      "__________________________________________________________________________________________________\n",
      "block4_conv_1_1 (Conv2D)        (None, 10, 21, 512)  1180160     max_pooling2d_11[0][0]           \n",
      "__________________________________________________________________________________________________\n",
      "block4_conv_1_2 (Conv2D)        (None, 10, 21, 512)  2359808     block4_conv_1_1[0][0]            \n",
      "__________________________________________________________________________________________________\n",
      "block4_bn_1 (BatchNormalization (None, 10, 21, 512)  2048        block4_conv_1_2[0][0]            \n",
      "__________________________________________________________________________________________________\n",
      "activation_8 (Activation)       (None, 10, 21, 512)  0           block4_bn_1[0][0]                \n",
      "__________________________________________________________________________________________________\n",
      "max_pooling2d_12 (MaxPooling2D) (None, 5, 10, 512)   0           activation_8[0][0]               \n",
      "__________________________________________________________________________________________________\n",
      "reshape_3 (Reshape)             (None, 10, 2560)     0           max_pooling2d_12[0][0]           \n",
      "__________________________________________________________________________________________________\n",
      "dense_5 (Dense)                 (None, 10, 32)       81952       reshape_3[0][0]                  \n",
      "__________________________________________________________________________________________________\n",
      "dropout_3 (Dropout)             (None, 10, 32)       0           dense_5[0][0]                    \n",
      "__________________________________________________________________________________________________\n",
      "dense_6 (Dense)                 (None, 10, 37)       1221        dropout_3[0][0]                  \n",
      "__________________________________________________________________________________________________\n",
      "the_labels (InputLayer)         (None, 4)            0                                            \n",
      "__________________________________________________________________________________________________\n",
      "input_length (InputLayer)       (None, 1)            0                                            \n",
      "__________________________________________________________________________________________________\n",
      "label_length (InputLayer)       (None, 1)            0                                            \n",
      "__________________________________________________________________________________________________\n",
      "ctc (Lambda)                    (None, 1)            0           dense_6[0][0]                    \n",
      "                                                                 the_labels[0][0]                 \n",
      "                                                                 input_length[0][0]               \n",
      "                                                                 label_length[0][0]               \n",
      "==================================================================================================\n",
      "Total params: 4,772,389\n",
      "Trainable params: 4,770,469\n",
      "Non-trainable params: 1,920\n",
      "__________________________________________________________________________________________________\n"
     ]
    }
   ],
   "source": [
    "model.summary()"
   ]
  },
  {
   "cell_type": "code",
   "execution_count": 0,
   "metadata": {
    "colab": {},
    "colab_type": "code",
    "collapsed": true,
    "id": "5Jzb1YnqlJug"
   },
   "outputs": [],
   "source": [
    "##設計generator產生training data\n",
    "## 產生包含要給loss的資訊\n",
    "## X=輸入影像\n",
    "## np.ones(batch_size)*int(conv_shape[2])=CNN輸出feature Map寬度\n",
    "## np.ones(batch_size)*n_len=字串長度(可浮動)\n",
    "\n",
    "def gen(batch_size=128):\n",
    "    X = np.zeros((batch_size,height, width, 3), dtype=np.uint8)\n",
    "    y = np.zeros((batch_size, n_len), dtype=np.uint8)\n",
    "    while True:\n",
    "        generator = ImageCaptcha(width=width, height=height)\n",
    "        for i in range(batch_size):\n",
    "            random_str = ''.join([random.choice(characters) for j in range(4)])\n",
    "            X[i] = np.array(generator.generate_image(random_str))\n",
    "            y[i] = [characters.find(x) for x in random_str]\n",
    "        yield [X, y,np.ones(batch_size)*int(conv_shape[2]), np.ones(batch_size)*n_len], np.ones(batch_size)"
   ]
  },
  {
   "cell_type": "code",
   "execution_count": 32,
   "metadata": {
    "colab": {
     "base_uri": "https://localhost:8080/",
     "height": 259
    },
    "colab_type": "code",
    "executionInfo": {
     "elapsed": 1979,
     "status": "ok",
     "timestamp": 1577253340974,
     "user": {
      "displayName": "Tu Angus",
      "photoUrl": "",
      "userId": "13639675632472162428"
     },
     "user_tz": -480
    },
    "id": "dfcFs6InVQaT",
    "outputId": "34f0034b-0d89-40db-cb19-b4c69fbb4eb6"
   },
   "outputs": [
    {
     "name": "stdout",
     "output_type": "stream",
     "text": [
      "Label:  [[ 2 24 17 35]]\n",
      "CNN輸出寬度:  [10.]\n",
      "字串長度(可浮動):  [4.]\n"
     ]
    },
    {
     "data": {
      "image/png": "[encoded data removed]",
      "text/plain": [
       "<Figure size 432x288 with 1 Axes>"
      ]
     },
     "metadata": {
      "image/png": {
       "height": 191,
       "width": 369
      },
      "tags": []
     },
     "output_type": "display_data"
    }
   ],
   "source": [
    "next_ge=gen(batch_size=1)\n",
    "test_ge=next(next_ge)\n",
    "plt.imshow(test_ge[0][0][0])\n",
    "print('Label: ',test_ge[0][1])\n",
    "print('CNN輸出寬度: ',test_ge[0][2])\n",
    "print('字串長度(可浮動): ',test_ge[0][3])"
   ]
  },
  {
   "cell_type": "markdown",
   "metadata": {
    "colab_type": "text",
    "id": "bf-DWtGs9CnF"
   },
   "source": [
    "## 開始訓練"
   ]
  },
  {
   "cell_type": "code",
   "execution_count": 33,
   "metadata": {
    "colab": {
     "base_uri": "https://localhost:8080/",
     "height": 1000
    },
    "colab_type": "code",
    "executionInfo": {
     "elapsed": 2233328,
     "status": "ok",
     "timestamp": 1577255591086,
     "user": {
      "displayName": "Tu Angus",
      "photoUrl": "",
      "userId": "13639675632472162428"
     },
     "user_tz": -480
    },
    "id": "fqdKnqollUKj",
    "outputId": "cad6c193-37ba-44fe-9826-6999166a301a"
   },
   "outputs": [
    {
     "name": "stdout",
     "output_type": "stream",
     "text": [
      "Epoch 1/60\n",
      "300/300 [==============================] - 39s 130ms/step - loss: 15.2402\n",
      "Epoch 2/60\n",
      "300/300 [==============================] - 37s 125ms/step - loss: 14.6881\n",
      "Epoch 3/60\n",
      "300/300 [==============================] - 37s 125ms/step - loss: 14.6356\n",
      "Epoch 4/60\n",
      "300/300 [==============================] - 37s 125ms/step - loss: 14.7025\n",
      "Epoch 5/60\n",
      "300/300 [==============================] - 37s 124ms/step - loss: 14.6568\n",
      "Epoch 6/60\n",
      "300/300 [==============================] - 37s 125ms/step - loss: 14.6220\n",
      "Epoch 7/60\n",
      "300/300 [==============================] - 37s 124ms/step - loss: 14.6457\n",
      "Epoch 8/60\n",
      "300/300 [==============================] - 37s 125ms/step - loss: 14.6234\n",
      "Epoch 9/60\n",
      "300/300 [==============================] - 37s 124ms/step - loss: 14.6379\n",
      "Epoch 10/60\n",
      "300/300 [==============================] - 37s 124ms/step - loss: 14.6274\n",
      "Epoch 11/60\n",
      "300/300 [==============================] - 37s 123ms/step - loss: 14.6105\n",
      "Epoch 12/60\n",
      "300/300 [==============================] - 37s 124ms/step - loss: 14.6214\n",
      "Epoch 13/60\n",
      "300/300 [==============================] - 37s 124ms/step - loss: 14.6316\n",
      "Epoch 14/60\n",
      "300/300 [==============================] - 37s 124ms/step - loss: 14.6097\n",
      "Epoch 15/60\n",
      "300/300 [==============================] - 37s 124ms/step - loss: 14.5835\n",
      "Epoch 16/60\n",
      "300/300 [==============================] - 37s 124ms/step - loss: 14.4232\n",
      "Epoch 17/60\n",
      "300/300 [==============================] - 37s 124ms/step - loss: 14.0103\n",
      "Epoch 18/60\n",
      "300/300 [==============================] - 37s 123ms/step - loss: 13.1044\n",
      "Epoch 19/60\n",
      "300/300 [==============================] - 37s 123ms/step - loss: 12.2455\n",
      "Epoch 20/60\n",
      "300/300 [==============================] - 37s 123ms/step - loss: 11.4388\n",
      "Epoch 21/60\n",
      "300/300 [==============================] - 37s 123ms/step - loss: 10.4487\n",
      "Epoch 22/60\n",
      "300/300 [==============================] - 37s 123ms/step - loss: 9.5301\n",
      "Epoch 23/60\n",
      "300/300 [==============================] - 37s 123ms/step - loss: 8.7802\n",
      "Epoch 24/60\n",
      "300/300 [==============================] - 37s 124ms/step - loss: 8.2613\n",
      "Epoch 25/60\n",
      "300/300 [==============================] - 37s 125ms/step - loss: 7.7991\n",
      "Epoch 26/60\n",
      "300/300 [==============================] - 37s 123ms/step - loss: 7.3893\n",
      "Epoch 27/60\n",
      "300/300 [==============================] - 37s 124ms/step - loss: 7.0905\n",
      "Epoch 28/60\n",
      "300/300 [==============================] - 37s 123ms/step - loss: 6.7989\n",
      "Epoch 29/60\n",
      "300/300 [==============================] - 37s 123ms/step - loss: 6.5534\n",
      "Epoch 30/60\n",
      "300/300 [==============================] - 37s 124ms/step - loss: 6.2732\n",
      "Epoch 31/60\n",
      "300/300 [==============================] - 37s 124ms/step - loss: 6.0808\n",
      "Epoch 32/60\n",
      "300/300 [==============================] - 37s 124ms/step - loss: 5.8418\n",
      "Epoch 33/60\n",
      "300/300 [==============================] - 37s 124ms/step - loss: 5.6621\n",
      "Epoch 34/60\n",
      "300/300 [==============================] - 37s 124ms/step - loss: 5.4280\n",
      "Epoch 35/60\n",
      "300/300 [==============================] - 37s 124ms/step - loss: 5.2642\n",
      "Epoch 36/60\n",
      "300/300 [==============================] - 37s 124ms/step - loss: 5.1221\n",
      "Epoch 37/60\n",
      "300/300 [==============================] - 37s 123ms/step - loss: 4.9328\n",
      "Epoch 38/60\n",
      "300/300 [==============================] - 37s 124ms/step - loss: 4.7268\n",
      "Epoch 39/60\n",
      "300/300 [==============================] - 37s 123ms/step - loss: 4.5280\n",
      "Epoch 40/60\n",
      "300/300 [==============================] - 37s 124ms/step - loss: 4.4195\n",
      "Epoch 41/60\n",
      "300/300 [==============================] - 37s 124ms/step - loss: 4.2539\n",
      "Epoch 42/60\n",
      "300/300 [==============================] - 37s 124ms/step - loss: 4.0523\n",
      "Epoch 43/60\n",
      "300/300 [==============================] - 37s 124ms/step - loss: 3.9379\n",
      "Epoch 44/60\n",
      "300/300 [==============================] - 37s 123ms/step - loss: 3.8908\n",
      "Epoch 45/60\n",
      "300/300 [==============================] - 37s 124ms/step - loss: 3.7232\n",
      "Epoch 46/60\n",
      "300/300 [==============================] - 37s 123ms/step - loss: 3.6327\n",
      "Epoch 47/60\n",
      "300/300 [==============================] - 37s 124ms/step - loss: 3.5014\n",
      "Epoch 48/60\n",
      "300/300 [==============================] - 37s 124ms/step - loss: 3.4256\n",
      "Epoch 49/60\n",
      "300/300 [==============================] - 37s 124ms/step - loss: 3.2871\n",
      "Epoch 50/60\n",
      "300/300 [==============================] - 37s 124ms/step - loss: 3.2785\n",
      "Epoch 51/60\n",
      "300/300 [==============================] - 37s 124ms/step - loss: 3.1935\n",
      "Epoch 52/60\n",
      "300/300 [==============================] - 37s 124ms/step - loss: 3.1877\n",
      "Epoch 53/60\n",
      "300/300 [==============================] - 37s 124ms/step - loss: 3.1523\n",
      "Epoch 54/60\n",
      "300/300 [==============================] - 37s 124ms/step - loss: 3.0617\n",
      "Epoch 55/60\n",
      "300/300 [==============================] - 37s 124ms/step - loss: 3.0543\n",
      "Epoch 56/60\n",
      "300/300 [==============================] - 37s 124ms/step - loss: 2.8897\n",
      "Epoch 57/60\n",
      "300/300 [==============================] - 37s 124ms/step - loss: 2.9177\n",
      "Epoch 58/60\n",
      "300/300 [==============================] - 37s 124ms/step - loss: 2.9336\n",
      "Epoch 59/60\n",
      "300/300 [==============================] - 37s 123ms/step - loss: 2.8165\n",
      "Epoch 60/60\n",
      "300/300 [==============================] - 37s 123ms/step - loss: 2.7745\n"
     ]
    },
    {
     "data": {
      "text/plain": [
       "<keras.callbacks.History at 0x7f57ce1d3be0>"
      ]
     },
     "execution_count": 33,
     "metadata": {
      "tags": []
     },
     "output_type": "execute_result"
    }
   ],
   "source": [
    "model.fit_generator(gen(32), steps_per_epoch=300, epochs=60)"
   ]
  },
  {
   "cell_type": "markdown",
   "metadata": {
    "colab_type": "text",
    "id": "CqeiUzn89CnS"
   },
   "source": [
    "## 預測"
   ]
  },
  {
   "cell_type": "code",
   "execution_count": 34,
   "metadata": {
    "colab": {
     "base_uri": "https://localhost:8080/",
     "height": 234
    },
    "colab_type": "code",
    "executionInfo": {
     "elapsed": 2311,
     "status": "ok",
     "timestamp": 1577255917256,
     "user": {
      "displayName": "Tu Angus",
      "photoUrl": "",
      "userId": "13639675632472162428"
     },
     "user_tz": -480
    },
    "id": "xiJJDLTFlXkb",
    "outputId": "e45ebc7a-ab39-464b-954e-eaa93e1d9d22"
   },
   "outputs": [
    {
     "data": {
      "image/png": "[encoded data removed]",
      "text/plain": [
       "<Figure size 432x288 with 1 Axes>"
      ]
     },
     "metadata": {
      "image/png": {
       "height": 217,
       "width": 369
      },
      "tags": []
     },
     "output_type": "display_data"
    }
   ],
   "source": [
    "characters2 = characters + ' '\n",
    "[X_test, y_test, _, _], _  = next(gen(1))\n",
    "y_pred = base_model.predict(X_test)\n",
    "##用ctc_decode得到解答，自己寫可以參考下方\n",
    "out = K.get_value(K.ctc_decode(y_pred, input_length=np.ones(y_pred.shape[0])*y_pred.shape[1], )[0][0])\n",
    "out = ''.join([characters[x] for x in out[0]])\n",
    "y_true = ''.join([characters[x] for x in y_test[0]])\n",
    "\n",
    "plt.imshow(X_test[0])\n",
    "plt.title('pred:' + str(out) + '\\ntrue: ' + str(y_true))\n",
    "\n",
    "argmax = np.argmax(y_pred, axis=2)[0]\n"
   ]
  },
  {
   "cell_type": "code",
   "execution_count": 35,
   "metadata": {
    "colab": {
     "base_uri": "https://localhost:8080/",
     "height": 34
    },
    "colab_type": "code",
    "executionInfo": {
     "elapsed": 872,
     "status": "ok",
     "timestamp": 1577255920178,
     "user": {
      "displayName": "Tu Angus",
      "photoUrl": "",
      "userId": "13639675632472162428"
     },
     "user_tz": -480
    },
    "id": "s8jgnRGj9Cnh",
    "outputId": "c051c6b0-76d6-40dd-9ea5-81269bff63c3"
   },
   "outputs": [
    {
     "data": {
      "text/plain": [
       "'H'"
      ]
     },
     "execution_count": 35,
     "metadata": {
      "tags": []
     },
     "output_type": "execute_result"
    }
   ],
   "source": [
    "characters[17]"
   ]
  },
  {
   "cell_type": "code",
   "execution_count": 36,
   "metadata": {
    "colab": {
     "base_uri": "https://localhost:8080/",
     "height": 34
    },
    "colab_type": "code",
    "executionInfo": {
     "elapsed": 1033,
     "status": "ok",
     "timestamp": 1577255926749,
     "user": {
      "displayName": "Tu Angus",
      "photoUrl": "",
      "userId": "13639675632472162428"
     },
     "user_tz": -480
    },
    "id": "FfzpQPRi9Cnq",
    "outputId": "5851cbca-1e95-49d8-ddf8-8746cd137781"
   },
   "outputs": [
    {
     "data": {
      "text/plain": [
       "array([36, 36, 19, 27, 36,  1, 36, 29, 36, 36])"
      ]
     },
     "execution_count": 36,
     "metadata": {
      "tags": []
     },
     "output_type": "execute_result"
    }
   ],
   "source": [
    " y_pred[0].argmax(1)"
   ]
  },
  {
   "cell_type": "markdown",
   "metadata": {
    "colab_type": "text",
    "id": "L0g0hwHL9Cn1"
   },
   "source": [
    "## 自己寫 decode CTC"
   ]
  },
  {
   "cell_type": "code",
   "execution_count": 0,
   "metadata": {
    "colab": {},
    "colab_type": "code",
    "collapsed": true,
    "id": "sXw0ycB59Cn5"
   },
   "outputs": [],
   "source": [
    "## 其中0代表預測為空格，如果預測相同字符之間沒有空格要移除\n",
    "word=''\n",
    "n=''\n",
    "for single_result in y_pred[0].argmax(1):\n",
    "    if single_result != 36:\n",
    "        if n != single_result:\n",
    "            word+=characters[single_result]\n",
    "    n=single_result "
   ]
  },
  {
   "cell_type": "markdown",
   "metadata": {
    "colab_type": "text",
    "id": "IwHb6y0N9CoD"
   },
   "source": [
    "## 額外參考：加入RNN的神經網路"
   ]
  },
  {
   "cell_type": "code",
   "execution_count": 22,
   "metadata": {
    "colab": {
     "base_uri": "https://localhost:8080/",
     "height": 258
    },
    "colab_type": "code",
    "executionInfo": {
     "elapsed": 2684,
     "status": "ok",
     "timestamp": 1577250427285,
     "user": {
      "displayName": "Tu Angus",
      "photoUrl": "",
      "userId": "13639675632472162428"
     },
     "user_tz": -480
    },
    "id": "9cFdBWaU9CoG",
    "outputId": "ca4b0018-9fd9-4c9e-8ca6-3d41c19585a1"
   },
   "outputs": [
    {
     "name": "stderr",
     "output_type": "stream",
     "text": [
      "/usr/local/lib/python3.6/dist-packages/ipykernel_launcher.py:8: UserWarning: Update your `Conv2D` call to the Keras 2 API: `Conv2D(32, (3, 3), activation=\"relu\")`\n",
      "  \n",
      "/usr/local/lib/python3.6/dist-packages/ipykernel_launcher.py:10: UserWarning: Update your `Conv2D` call to the Keras 2 API: `Conv2D(32, (3, 3), activation=\"relu\")`\n",
      "  # Remove the CWD from sys.path while we load stuff.\n"
     ]
    },
    {
     "name": "stdout",
     "output_type": "stream",
     "text": [
      "WARNING:tensorflow:From /usr/local/lib/python3.6/dist-packages/keras/backend/tensorflow_backend.py:4479: The name tf.truncated_normal is deprecated. Please use tf.random.truncated_normal instead.\n",
      "\n"
     ]
    },
    {
     "name": "stderr",
     "output_type": "stream",
     "text": [
      "/usr/local/lib/python3.6/dist-packages/ipykernel_launcher.py:23: UserWarning: Update your `GRU` call to the Keras 2 API: `GRU(128, return_sequences=True, name=\"gru1\", kernel_initializer=\"he_normal\")`\n",
      "/usr/local/lib/python3.6/dist-packages/ipykernel_launcher.py:25: UserWarning: Update your `GRU` call to the Keras 2 API: `GRU(128, return_sequences=True, go_backwards=True, name=\"gru1_b\", kernel_initializer=\"he_normal\")`\n",
      "/usr/local/lib/python3.6/dist-packages/ipykernel_launcher.py:28: UserWarning: Update your `GRU` call to the Keras 2 API: `GRU(128, return_sequences=True, name=\"gru2\", kernel_initializer=\"he_normal\")`\n",
      "/usr/local/lib/python3.6/dist-packages/ipykernel_launcher.py:30: UserWarning: Update your `GRU` call to the Keras 2 API: `GRU(128, return_sequences=True, go_backwards=True, name=\"gru2_b\", kernel_initializer=\"he_normal\")`\n",
      "/usr/local/lib/python3.6/dist-packages/ipykernel_launcher.py:34: UserWarning: Update your `Dense` call to the Keras 2 API: `Dense(37, activation=\"softmax\", kernel_initializer=\"he_normal\")`\n",
      "/usr/local/lib/python3.6/dist-packages/ipykernel_launcher.py:36: UserWarning: Update your `Model` call to the Keras 2 API: `Model(inputs=Tensor(\"in..., outputs=Tensor(\"de...)`\n",
      "/usr/local/lib/python3.6/dist-packages/ipykernel_launcher.py:44: UserWarning: Update your `Model` call to the Keras 2 API: `Model(inputs=[<tf.Tenso..., outputs=[<tf.Tenso...)`\n"
     ]
    }
   ],
   "source": [
    "from keras.models import *\n",
    "from keras.layers import *\n",
    "rnn_size = 128\n",
    "\n",
    "input_tensor = Input((height,width, 3))\n",
    "x = input_tensor\n",
    "for i in range(4):\n",
    "    x = Convolution2D(32, 3, 3, activation='relu')(x)\n",
    "    x = keras.layers.BatchNormalization(axis=-1)(x)\n",
    "    x = Convolution2D(32, 3, 3, activation='relu')(x)\n",
    "    x = keras.layers.BatchNormalization(axis=-1)(x)\n",
    "    if i <3:\n",
    "        x = MaxPooling2D(pool_size=(2, 2))(x)\n",
    "    else:\n",
    "        x = MaxPooling2D(pool_size=(2, 1))(x)\n",
    "\n",
    "\n",
    "conv_shape = x.get_shape()\n",
    "x = Reshape(target_shape=(int(conv_shape[2]), int(conv_shape[1]*conv_shape[3])))(x)\n",
    "\n",
    "x = Dense(32, activation='relu')(x)\n",
    "\n",
    "gru_1 = GRU(rnn_size, return_sequences=True, init='he_normal', name='gru1')(x)\n",
    "gru_1b = GRU(rnn_size, return_sequences=True, go_backwards=True, \n",
    "             init='he_normal', name='gru1_b')(x)\n",
    "gru1_merged = keras.layers.add([gru_1, gru_1b])\n",
    "\n",
    "gru_2 = GRU(rnn_size, return_sequences=True, init='he_normal', name='gru2')(gru1_merged)\n",
    "gru_2b = GRU(rnn_size, return_sequences=True, go_backwards=True, \n",
    "             init='he_normal', name='gru2_b')(gru1_merged)\n",
    "x = keras.layers.Concatenate()([gru_2, gru_2b])\n",
    "\n",
    "x = Dropout(0.25)(x)\n",
    "x = Dense(n_class, init='he_normal', activation='softmax')(x)\n",
    "\n",
    "base_model = Model(input=input_tensor, output=x)\n",
    "\n",
    "labels = Input(name='the_labels', shape=[n_len], dtype='float32')\n",
    "input_length = Input(name='input_length', shape=[1], dtype='int64')\n",
    "label_length = Input(name='label_length', shape=[1], dtype='int64')\n",
    "loss_out = Lambda(ctc_lambda_func, output_shape=(1,), \n",
    "                  name='ctc')([x, labels, input_length, label_length])\n",
    "\n",
    "model = Model(input=[input_tensor, labels, input_length, label_length], output=[loss_out])\n",
    "model.compile(loss={'ctc': lambda y_true, y_pred: y_pred}, optimizer='Adam')"
   ]
  },
  {
   "cell_type": "code",
   "execution_count": 23,
   "metadata": {
    "colab": {
     "base_uri": "https://localhost:8080/",
     "height": 1000
    },
    "colab_type": "code",
    "executionInfo": {
     "elapsed": 2056,
     "status": "ok",
     "timestamp": 1577250427287,
     "user": {
      "displayName": "Tu Angus",
      "photoUrl": "",
      "userId": "13639675632472162428"
     },
     "user_tz": -480
    },
    "id": "kYUsPudC9CoR",
    "outputId": "14456148-e833-40ce-8549-0f422a72db9f"
   },
   "outputs": [
    {
     "name": "stdout",
     "output_type": "stream",
     "text": [
      "Model: \"model_4\"\n",
      "__________________________________________________________________________________________________\n",
      "Layer (type)                    Output Shape         Param #     Connected to                     \n",
      "==================================================================================================\n",
      "input_2 (InputLayer)            (None, 80, 170, 3)   0                                            \n",
      "__________________________________________________________________________________________________\n",
      "conv2d_1 (Conv2D)               (None, 78, 168, 32)  896         input_2[0][0]                    \n",
      "__________________________________________________________________________________________________\n",
      "batch_normalization_1 (BatchNor (None, 78, 168, 32)  128         conv2d_1[0][0]                   \n",
      "__________________________________________________________________________________________________\n",
      "conv2d_2 (Conv2D)               (None, 76, 166, 32)  9248        batch_normalization_1[0][0]      \n",
      "__________________________________________________________________________________________________\n",
      "batch_normalization_2 (BatchNor (None, 76, 166, 32)  128         conv2d_2[0][0]                   \n",
      "__________________________________________________________________________________________________\n",
      "max_pooling2d_5 (MaxPooling2D)  (None, 38, 83, 32)   0           batch_normalization_2[0][0]      \n",
      "__________________________________________________________________________________________________\n",
      "conv2d_3 (Conv2D)               (None, 36, 81, 32)   9248        max_pooling2d_5[0][0]            \n",
      "__________________________________________________________________________________________________\n",
      "batch_normalization_3 (BatchNor (None, 36, 81, 32)   128         conv2d_3[0][0]                   \n",
      "__________________________________________________________________________________________________\n",
      "conv2d_4 (Conv2D)               (None, 34, 79, 32)   9248        batch_normalization_3[0][0]      \n",
      "__________________________________________________________________________________________________\n",
      "batch_normalization_4 (BatchNor (None, 34, 79, 32)   128         conv2d_4[0][0]                   \n",
      "__________________________________________________________________________________________________\n",
      "max_pooling2d_6 (MaxPooling2D)  (None, 17, 39, 32)   0           batch_normalization_4[0][0]      \n",
      "__________________________________________________________________________________________________\n",
      "conv2d_5 (Conv2D)               (None, 15, 37, 32)   9248        max_pooling2d_6[0][0]            \n",
      "__________________________________________________________________________________________________\n",
      "batch_normalization_5 (BatchNor (None, 15, 37, 32)   128         conv2d_5[0][0]                   \n",
      "__________________________________________________________________________________________________\n",
      "conv2d_6 (Conv2D)               (None, 13, 35, 32)   9248        batch_normalization_5[0][0]      \n",
      "__________________________________________________________________________________________________\n",
      "batch_normalization_6 (BatchNor (None, 13, 35, 32)   128         conv2d_6[0][0]                   \n",
      "__________________________________________________________________________________________________\n",
      "max_pooling2d_7 (MaxPooling2D)  (None, 6, 17, 32)    0           batch_normalization_6[0][0]      \n",
      "__________________________________________________________________________________________________\n",
      "conv2d_7 (Conv2D)               (None, 4, 15, 32)    9248        max_pooling2d_7[0][0]            \n",
      "__________________________________________________________________________________________________\n",
      "batch_normalization_7 (BatchNor (None, 4, 15, 32)    128         conv2d_7[0][0]                   \n",
      "__________________________________________________________________________________________________\n",
      "conv2d_8 (Conv2D)               (None, 2, 13, 32)    9248        batch_normalization_7[0][0]      \n",
      "__________________________________________________________________________________________________\n",
      "batch_normalization_8 (BatchNor (None, 2, 13, 32)    128         conv2d_8[0][0]                   \n",
      "__________________________________________________________________________________________________\n",
      "max_pooling2d_8 (MaxPooling2D)  (None, 1, 13, 32)    0           batch_normalization_8[0][0]      \n",
      "__________________________________________________________________________________________________\n",
      "reshape_2 (Reshape)             (None, 13, 32)       0           max_pooling2d_8[0][0]            \n",
      "__________________________________________________________________________________________________\n",
      "dense_3 (Dense)                 (None, 13, 32)       1056        reshape_2[0][0]                  \n",
      "__________________________________________________________________________________________________\n",
      "gru1 (GRU)                      (None, 13, 128)      61824       dense_3[0][0]                    \n",
      "__________________________________________________________________________________________________\n",
      "gru1_b (GRU)                    (None, 13, 128)      61824       dense_3[0][0]                    \n",
      "__________________________________________________________________________________________________\n",
      "add_1 (Add)                     (None, 13, 128)      0           gru1[0][0]                       \n",
      "                                                                 gru1_b[0][0]                     \n",
      "__________________________________________________________________________________________________\n",
      "gru2 (GRU)                      (None, 13, 128)      98688       add_1[0][0]                      \n",
      "__________________________________________________________________________________________________\n",
      "gru2_b (GRU)                    (None, 13, 128)      98688       add_1[0][0]                      \n",
      "__________________________________________________________________________________________________\n",
      "concatenate_1 (Concatenate)     (None, 13, 256)      0           gru2[0][0]                       \n",
      "                                                                 gru2_b[0][0]                     \n",
      "__________________________________________________________________________________________________\n",
      "dropout_2 (Dropout)             (None, 13, 256)      0           concatenate_1[0][0]              \n",
      "__________________________________________________________________________________________________\n",
      "dense_4 (Dense)                 (None, 13, 37)       9509        dropout_2[0][0]                  \n",
      "__________________________________________________________________________________________________\n",
      "the_labels (InputLayer)         (None, 4)            0                                            \n",
      "__________________________________________________________________________________________________\n",
      "input_length (InputLayer)       (None, 1)            0                                            \n",
      "__________________________________________________________________________________________________\n",
      "label_length (InputLayer)       (None, 1)            0                                            \n",
      "__________________________________________________________________________________________________\n",
      "ctc (Lambda)                    (None, 1)            0           dense_4[0][0]                    \n",
      "                                                                 the_labels[0][0]                 \n",
      "                                                                 input_length[0][0]               \n",
      "                                                                 label_length[0][0]               \n",
      "==================================================================================================\n",
      "Total params: 398,245\n",
      "Trainable params: 397,733\n",
      "Non-trainable params: 512\n",
      "__________________________________________________________________________________________________\n"
     ]
    }
   ],
   "source": [
    "model.summary()"
   ]
  },
  {
   "cell_type": "code",
   "execution_count": 24,
   "metadata": {
    "colab": {
     "base_uri": "https://localhost:8080/",
     "height": 1000
    },
    "colab_type": "code",
    "executionInfo": {
     "elapsed": 2711712,
     "status": "ok",
     "timestamp": 1577253138949,
     "user": {
      "displayName": "Tu Angus",
      "photoUrl": "",
      "userId": "13639675632472162428"
     },
     "user_tz": -480
    },
    "id": "OnrM8qOFNLqB",
    "outputId": "e7024983-d4ab-49fe-8de2-a3482522b02f"
   },
   "outputs": [
    {
     "name": "stdout",
     "output_type": "stream",
     "text": [
      "Epoch 1/60\n",
      "300/300 [==============================] - 49s 162ms/step - loss: 14.3050\n",
      "Epoch 2/60\n",
      "300/300 [==============================] - 45s 150ms/step - loss: 5.3457\n",
      "Epoch 3/60\n",
      "300/300 [==============================] - 45s 150ms/step - loss: 3.0677\n",
      "Epoch 4/60\n",
      "300/300 [==============================] - 45s 150ms/step - loss: 2.3014\n",
      "Epoch 5/60\n",
      "300/300 [==============================] - 45s 150ms/step - loss: 1.8900\n",
      "Epoch 6/60\n",
      "300/300 [==============================] - 45s 152ms/step - loss: 1.6421\n",
      "Epoch 7/60\n",
      "300/300 [==============================] - 45s 150ms/step - loss: 1.4238\n",
      "Epoch 8/60\n",
      "300/300 [==============================] - 45s 150ms/step - loss: 1.2644\n",
      "Epoch 9/60\n",
      "300/300 [==============================] - 45s 151ms/step - loss: 1.1557\n",
      "Epoch 10/60\n",
      "300/300 [==============================] - 45s 150ms/step - loss: 1.1168\n",
      "Epoch 11/60\n",
      "300/300 [==============================] - 45s 149ms/step - loss: 1.0002\n",
      "Epoch 12/60\n",
      "300/300 [==============================] - 45s 150ms/step - loss: 0.9362\n",
      "Epoch 13/60\n",
      "300/300 [==============================] - 45s 150ms/step - loss: 0.8686\n",
      "Epoch 14/60\n",
      "300/300 [==============================] - 45s 149ms/step - loss: 0.8407\n",
      "Epoch 15/60\n",
      "300/300 [==============================] - 45s 149ms/step - loss: 0.8091\n",
      "Epoch 16/60\n",
      "300/300 [==============================] - 45s 150ms/step - loss: 0.8025\n",
      "Epoch 17/60\n",
      "300/300 [==============================] - 45s 150ms/step - loss: 0.7945\n",
      "Epoch 18/60\n",
      "300/300 [==============================] - 45s 150ms/step - loss: 0.7147\n",
      "Epoch 19/60\n",
      "300/300 [==============================] - 45s 150ms/step - loss: 0.6810\n",
      "Epoch 20/60\n",
      "300/300 [==============================] - 45s 150ms/step - loss: 0.6478\n",
      "Epoch 21/60\n",
      "300/300 [==============================] - 45s 150ms/step - loss: 0.6282\n",
      "Epoch 22/60\n",
      "300/300 [==============================] - 45s 151ms/step - loss: 0.7039\n",
      "Epoch 23/60\n",
      "300/300 [==============================] - 45s 151ms/step - loss: 0.6109\n",
      "Epoch 24/60\n",
      "300/300 [==============================] - 45s 151ms/step - loss: 0.6533\n",
      "Epoch 25/60\n",
      "300/300 [==============================] - 45s 150ms/step - loss: 0.5765\n",
      "Epoch 26/60\n",
      "300/300 [==============================] - 45s 150ms/step - loss: 0.5662\n",
      "Epoch 27/60\n",
      "300/300 [==============================] - 45s 150ms/step - loss: 0.5364\n",
      "Epoch 28/60\n",
      "300/300 [==============================] - 45s 149ms/step - loss: 0.4965\n",
      "Epoch 29/60\n",
      "300/300 [==============================] - 45s 151ms/step - loss: 0.5527\n",
      "Epoch 30/60\n",
      "300/300 [==============================] - 45s 150ms/step - loss: 0.5500\n",
      "Epoch 31/60\n",
      "300/300 [==============================] - 45s 149ms/step - loss: 0.5450\n",
      "Epoch 32/60\n",
      "300/300 [==============================] - 45s 150ms/step - loss: 0.5235\n",
      "Epoch 33/60\n",
      "300/300 [==============================] - 45s 151ms/step - loss: 0.4918\n",
      "Epoch 34/60\n",
      "300/300 [==============================] - 45s 151ms/step - loss: 0.4606\n",
      "Epoch 35/60\n",
      "300/300 [==============================] - 45s 150ms/step - loss: 0.5711\n",
      "Epoch 36/60\n",
      "300/300 [==============================] - 45s 150ms/step - loss: 0.5018\n",
      "Epoch 37/60\n",
      "300/300 [==============================] - 45s 151ms/step - loss: 0.4722\n",
      "Epoch 38/60\n",
      "300/300 [==============================] - 45s 150ms/step - loss: 0.4937\n",
      "Epoch 39/60\n",
      "300/300 [==============================] - 45s 150ms/step - loss: 0.4139\n",
      "Epoch 40/60\n",
      "300/300 [==============================] - 45s 150ms/step - loss: 0.4438\n",
      "Epoch 41/60\n",
      "300/300 [==============================] - 45s 151ms/step - loss: 0.4309\n",
      "Epoch 42/60\n",
      "300/300 [==============================] - 45s 150ms/step - loss: 0.4285\n",
      "Epoch 43/60\n",
      "300/300 [==============================] - 45s 151ms/step - loss: 0.4035\n",
      "Epoch 44/60\n",
      "300/300 [==============================] - 45s 150ms/step - loss: 0.4058\n",
      "Epoch 45/60\n",
      "300/300 [==============================] - 45s 150ms/step - loss: 0.4004\n",
      "Epoch 46/60\n",
      "300/300 [==============================] - 45s 150ms/step - loss: 0.4366\n",
      "Epoch 47/60\n",
      "300/300 [==============================] - 45s 150ms/step - loss: 0.4257\n",
      "Epoch 48/60\n",
      "300/300 [==============================] - 45s 150ms/step - loss: 0.4025\n",
      "Epoch 49/60\n",
      "300/300 [==============================] - 45s 150ms/step - loss: 0.4287\n",
      "Epoch 50/60\n",
      "300/300 [==============================] - 45s 151ms/step - loss: 0.4721\n",
      "Epoch 51/60\n",
      "300/300 [==============================] - 45s 150ms/step - loss: 0.4294\n",
      "Epoch 52/60\n",
      "300/300 [==============================] - 45s 151ms/step - loss: 0.4380\n",
      "Epoch 53/60\n",
      "300/300 [==============================] - 45s 149ms/step - loss: 0.4359\n",
      "Epoch 54/60\n",
      "300/300 [==============================] - 45s 150ms/step - loss: 0.3950\n",
      "Epoch 55/60\n",
      "300/300 [==============================] - 45s 150ms/step - loss: 0.3893\n",
      "Epoch 56/60\n",
      "300/300 [==============================] - 45s 151ms/step - loss: 0.3737\n",
      "Epoch 57/60\n",
      "300/300 [==============================] - 45s 150ms/step - loss: 0.3572\n",
      "Epoch 58/60\n",
      "300/300 [==============================] - 46s 152ms/step - loss: 0.3647\n",
      "Epoch 59/60\n",
      "300/300 [==============================] - 45s 150ms/step - loss: 0.3334\n",
      "Epoch 60/60\n",
      "300/300 [==============================] - 45s 150ms/step - loss: 0.3768\n"
     ]
    },
    {
     "data": {
      "text/plain": [
       "<keras.callbacks.History at 0x7f584747fb70>"
      ]
     },
     "execution_count": 24,
     "metadata": {
      "tags": []
     },
     "output_type": "execute_result"
    }
   ],
   "source": [
    "model.fit_generator(gen(32), steps_per_epoch=300, epochs=60)"
   ]
  },
  {
   "cell_type": "code",
   "execution_count": 25,
   "metadata": {
    "colab": {
     "base_uri": "https://localhost:8080/",
     "height": 234
    },
    "colab_type": "code",
    "executionInfo": {
     "elapsed": 2710473,
     "status": "ok",
     "timestamp": 1577253140103,
     "user": {
      "displayName": "Tu Angus",
      "photoUrl": "",
      "userId": "13639675632472162428"
     },
     "user_tz": -480
    },
    "id": "g6uN7ZFVJ1m_",
    "outputId": "113dee81-a0cf-42ed-b273-9fbee15b30b7"
   },
   "outputs": [
    {
     "data": {
      "image/png": "[encoded data removed]",
      "text/plain": [
       "<Figure size 432x288 with 1 Axes>"
      ]
     },
     "metadata": {
      "image/png": {
       "height": 217,
       "width": 369
      },
      "tags": []
     },
     "output_type": "display_data"
    }
   ],
   "source": [
    "characters2 = characters + ' '\n",
    "[X_test, y_test, _, _], _  = next(gen(1))\n",
    "y_pred = base_model.predict(X_test)\n",
    "##用ctc_decode得到解答，自己寫可以參考下方\n",
    "out = K.get_value(K.ctc_decode(y_pred, input_length=np.ones(y_pred.shape[0])*y_pred.shape[1], )[0][0])\n",
    "out = ''.join([characters[x] for x in out[0]])\n",
    "y_true = ''.join([characters[x] for x in y_test[0]])\n",
    "\n",
    "plt.imshow(X_test[0])\n",
    "plt.title('pred:' + str(out) + '\\ntrue: ' + str(y_true))\n",
    "\n",
    "argmax = np.argmax(y_pred, axis=2)[0]\n"
   ]
  }
 ],
 "metadata": {
  "accelerator": "GPU",
  "colab": {
   "collapsed_sections": [],
   "name": "Day022_Captcha_HW.ipynb",
   "provenance": []
  },
  "kernelspec": {
   "display_name": "Python 3",
   "language": "python",
   "name": "python3"
  },
  "language_info": {
   "codemirror_mode": {
    "name": "ipython",
    "version": 3
   },
   "file_extension": ".py",
   "mimetype": "text/x-python",
   "name": "python",
   "nbconvert_exporter": "python",
   "pygments_lexer": "ipython3",
   "version": "3.6.6"
  }
 },
 "nbformat": 4,
 "nbformat_minor": 1
}
