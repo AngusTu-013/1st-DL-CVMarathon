{
 "cells": [
  {
   "cell_type": "markdown",
   "metadata": {
    "colab_type": "text",
    "id": "M2Jruo6PHf1K"
   },
   "source": [
    "### 作業\n",
    "請嘗試使用 keras 來定義一個直接預測 15 個人臉關鍵點坐標的檢測網路，以及適合這個網路的 loss function\n",
    "\n",
    "\n",
    "Hint: 參考前面的電腦視覺深度學習基礎"
   ]
  },
  {
   "cell_type": "markdown",
   "metadata": {
    "colab_type": "text",
    "id": "IVpKHpibHf1Z"
   },
   "source": [
    "### 範例\n",
    "接下來的程式碼會示範如何定義一個簡單的 CNN model"
   ]
  },
  {
   "cell_type": "code",
   "execution_count": 2,
   "metadata": {
    "colab": {},
    "colab_type": "code",
    "collapsed": true,
    "id": "xPdTto0HHf1h"
   },
   "outputs": [],
   "source": [
    "import numpy as np\n",
    "import pandas as pd\n",
    "import matplotlib.pyplot as plt\n",
    "%matplotlib inline"
   ]
  },
  {
   "cell_type": "code",
   "execution_count": 3,
   "metadata": {
    "colab": {
     "base_uri": "https://localhost:8080/",
     "height": 68
    },
    "colab_type": "code",
    "collapsed": true,
    "executionInfo": {
     "elapsed": 910,
     "status": "ok",
     "timestamp": 1580784447038,
     "user": {
      "displayName": "Tu Angus",
      "photoUrl": "",
      "userId": "13639675632472162428"
     },
     "user_tz": -480
    },
    "id": "ONBG08mLHf14",
    "outputId": "bb5aa3c0-0c57-4407-e33a-74c824a8152d"
   },
   "outputs": [],
   "source": [
    "# 使用 colab 環境的同學請執行以下程式碼\n",
    "# %tensorflow_version 1.x # 確保 colob 中使用的 tensorflow 是 1.x 版本而不是 tensorflow 2\n",
    "#import tensorflow as tf\n",
    "#print(tf.__version__)\n",
    "#\n",
    "#import os\n",
    "#from google.colab import drive \n",
    "#drive.mount('/content/gdrive') # 將 google drive 掛載在 colob，\n",
    "#%cd 'gdrive/My Drive'\n",
    "# os.system(\"mkdir cupoy_cv_part4\") # 可以自己改路徑\n",
    "# %cd cupoy_cv_part4 # 可以自己改路徑"
   ]
  },
  {
   "cell_type": "code",
   "execution_count": 4,
   "metadata": {
    "colab": {
     "base_uri": "https://localhost:8080/",
     "height": 51
    },
    "colab_type": "code",
    "collapsed": true,
    "executionInfo": {
     "elapsed": 895,
     "status": "ok",
     "timestamp": 1580784447039,
     "user": {
      "displayName": "Tu Angus",
      "photoUrl": "",
      "userId": "13639675632472162428"
     },
     "user_tz": -480
    },
    "id": "EtFvwPUlIWea",
    "outputId": "26cba223-313c-4c7b-ba46-2f9849a8be9e"
   },
   "outputs": [],
   "source": [
    "#%cd 'Colab Notebooks'\n",
    "#%pwd"
   ]
  },
  {
   "cell_type": "code",
   "execution_count": 5,
   "metadata": {
    "colab": {},
    "colab_type": "code",
    "collapsed": true,
    "id": "1QE7UJD8Hf2N"
   },
   "outputs": [],
   "source": [
    "# 讀取資料集以及做前處理的函數\n",
    "def load_data(dirname):\n",
    "    # 讀取 csv 文件\n",
    "    data = pd.read_csv(dirname)\n",
    "    # 過濾有缺失值的 row\n",
    "    data = data.dropna()\n",
    "\n",
    "    # 將圖片像素值讀取為 numpy array 的形態\n",
    "    data['Image'] = data['Image'].apply(lambda img: np.fromstring(img, sep=' ')).values \n",
    "\n",
    "    # 單獨把圖像 array 抽取出來\n",
    "    imgs = np.vstack(data['Image'].values)/255\n",
    "    # reshape 為 96 x 96\n",
    "    imgs = imgs.reshape(data.shape[0], 96, 96)\n",
    "    # 轉換為 float\n",
    "    imgs = imgs.astype(np.float32)\n",
    "    \n",
    "    # 提取坐標的部分\n",
    "    points = data[data.columns[:-1]].values\n",
    "\n",
    "    # 轉換為 float\n",
    "    points = points.astype(np.float32)\n",
    "\n",
    "    # normalize 坐標值到 [-0.5, 0.5]\n",
    "    points = points/96 - 0.5\n",
    "    \n",
    "    return imgs, points"
   ]
  },
  {
   "cell_type": "code",
   "execution_count": 6,
   "metadata": {
    "colab": {
     "base_uri": "https://localhost:8080/",
     "height": 51
    },
    "colab_type": "code",
    "executionInfo": {
     "elapsed": 7354,
     "status": "ok",
     "timestamp": 1580784453540,
     "user": {
      "displayName": "Tu Angus",
      "photoUrl": "",
      "userId": "13639675632472162428"
     },
     "user_tz": -480
    },
    "id": "GpiAkcS8Hf2g",
    "outputId": "ccca169e-97b1-4404-9526-69c19a16dc43"
   },
   "outputs": [
    {
     "name": "stdout",
     "output_type": "stream",
     "text": [
      "圖像資料: (2140, 96, 96) \n",
      "關鍵點資料: (2140, 30)\n"
     ]
    }
   ],
   "source": [
    "# 讀取資料\n",
    "imgs_train, points_train = load_data(dirname = 'training.csv')\n",
    "print(\"圖像資料:\", imgs_train.shape, \"\\n關鍵點資料:\", points_train.shape)"
   ]
  },
  {
   "cell_type": "code",
   "execution_count": 7,
   "metadata": {
    "colab": {
     "base_uri": "https://localhost:8080/",
     "height": 51
    },
    "colab_type": "code",
    "executionInfo": {
     "elapsed": 10316,
     "status": "ok",
     "timestamp": 1580784456522,
     "user": {
      "displayName": "Tu Angus",
      "photoUrl": "",
      "userId": "13639675632472162428"
     },
     "user_tz": -480
    },
    "id": "nXLiTJ1zHf23",
    "outputId": "0823d689-1e25-432a-a184-c7de3c55f3c8"
   },
   "outputs": [
    {
     "name": "stdout",
     "output_type": "stream",
     "text": [
      "圖像資料: (1783, 96, 96) \n",
      "關鍵點資料: (1783, 1)\n"
     ]
    }
   ],
   "source": [
    "imgs_test, points_test = load_data(dirname = 'test.csv')\n",
    "print(\"圖像資料:\", imgs_test.shape, \"\\n關鍵點資料:\", points_test.shape)"
   ]
  },
  {
   "cell_type": "code",
   "execution_count": 8,
   "metadata": {
    "colab": {},
    "colab_type": "code",
    "id": "bfREDfL2Hf3J"
   },
   "outputs": [
    {
     "name": "stderr",
     "output_type": "stream",
     "text": [
      "C:\\ProgramData\\Anaconda3\\lib\\site-packages\\h5py\\__init__.py:34: FutureWarning: Conversion of the second argument of issubdtype from `float` to `np.floating` is deprecated. In future, it will be treated as `np.float64 == np.dtype(float).type`.\n",
      "  from ._conv import register_converters as _register_converters\n",
      "Using TensorFlow backend.\n"
     ]
    }
   ],
   "source": [
    "from keras.models import Sequential\n",
    "from keras.layers import Conv2D, MaxPooling2D, Flatten, Dense, Dropout, Activation"
   ]
  },
  {
   "cell_type": "markdown",
   "metadata": {
    "colab_type": "text",
    "id": "0Lh6U3dGHf3y"
   },
   "source": [
    "from keras import backend as K\n",
    "if K.image_dim_ordering() == 'th':\n",
    "    X_train = imgs_train.reshape(imgs_train.shape[0], 1, img_rows, img_cols)\n",
    "    X_test = imgs_test.reshape(imgs_test.shape[0], 1, img_rows, img_cols)\n",
    "    input_shape = (points_train.shape[-1], img_rows, img_cols)\n",
    "else:\n",
    "    X_train = imgs_train.reshape(imgs_train.shape[0], img_rows, img_cols, 1)\n",
    "    X_test = imgs_test.reshape(imgs_test.shape[0], img_rows, img_cols, 1)\n",
    "    input_shape = (img_rows, img_cols, points_test.shape[-1])"
   ]
  },
  {
   "cell_type": "code",
   "execution_count": 9,
   "metadata": {
    "colab": {
     "base_uri": "https://localhost:8080/",
     "height": 938
    },
    "colab_type": "code",
    "executionInfo": {
     "elapsed": 10258,
     "status": "ok",
     "timestamp": 1580784456525,
     "user": {
      "displayName": "Tu Angus",
      "photoUrl": "",
      "userId": "13639675632472162428"
     },
     "user_tz": -480
    },
    "id": "dc-TXFDWHf34",
    "outputId": "3c824135-6d28-4751-ed6a-ca275e58b5f0"
   },
   "outputs": [
    {
     "name": "stdout",
     "output_type": "stream",
     "text": [
      "_________________________________________________________________\n",
      "Layer (type)                 Output Shape              Param #   \n",
      "=================================================================\n",
      "conv2d_1 (Conv2D)            (None, 96, 96, 64)        640       \n",
      "_________________________________________________________________\n",
      "activation_1 (Activation)    (None, 96, 96, 64)        0         \n",
      "_________________________________________________________________\n",
      "conv2d_2 (Conv2D)            (None, 94, 94, 32)        18464     \n",
      "_________________________________________________________________\n",
      "max_pooling2d_1 (MaxPooling2 (None, 47, 47, 32)        0         \n",
      "_________________________________________________________________\n",
      "conv2d_3 (Conv2D)            (None, 47, 47, 16)        4624      \n",
      "_________________________________________________________________\n",
      "conv2d_4 (Conv2D)            (None, 45, 45, 16)        2320      \n",
      "_________________________________________________________________\n",
      "max_pooling2d_2 (MaxPooling2 (None, 22, 22, 16)        0         \n",
      "_________________________________________________________________\n",
      "conv2d_5 (Conv2D)            (None, 22, 22, 64)        9280      \n",
      "_________________________________________________________________\n",
      "conv2d_6 (Conv2D)            (None, 20, 20, 64)        36928     \n",
      "_________________________________________________________________\n",
      "max_pooling2d_3 (MaxPooling2 (None, 10, 10, 64)        0         \n",
      "_________________________________________________________________\n",
      "conv2d_7 (Conv2D)            (None, 10, 10, 128)       73856     \n",
      "_________________________________________________________________\n",
      "conv2d_8 (Conv2D)            (None, 8, 8, 128)         147584    \n",
      "_________________________________________________________________\n",
      "max_pooling2d_4 (MaxPooling2 (None, 4, 4, 128)         0         \n",
      "_________________________________________________________________\n",
      "flatten_1 (Flatten)          (None, 2048)              0         \n",
      "_________________________________________________________________\n",
      "dense_1 (Dense)              (None, 512)               1049088   \n",
      "_________________________________________________________________\n",
      "dropout_1 (Dropout)          (None, 512)               0         \n",
      "_________________________________________________________________\n",
      "dense_2 (Dense)              (None, 512)               262656    \n",
      "_________________________________________________________________\n",
      "dropout_2 (Dropout)          (None, 512)               0         \n",
      "_________________________________________________________________\n",
      "dense_3 (Dense)              (None, 30)                15390     \n",
      "=================================================================\n",
      "Total params: 1,620,830\n",
      "Trainable params: 1,620,830\n",
      "Non-trainable params: 0\n",
      "_________________________________________________________________\n"
     ]
    }
   ],
   "source": [
    "# 定義人臉關鍵點檢測網路\n",
    "model = Sequential()\n",
    "\n",
    "# 定義神經網路的輸入, hidden layer 以及輸出\n",
    "model.add(Conv2D(filters=64, kernel_size=(3,3), padding='same', input_shape=(96, 96, 1)))\n",
    "model.add(Activation('relu'))\n",
    "\n",
    "model.add(Conv2D(filters=32,kernel_size=(3,3),activation='relu')) \n",
    "model.add(MaxPooling2D(pool_size=(2, 2))) \n",
    "\n",
    "model.add(Conv2D(filters=16, kernel_size=(3,3),padding='same', activation='relu')) \n",
    "model.add(Conv2D(filters=16, kernel_size=(3,3),activation='relu')) \n",
    "model.add(MaxPooling2D(pool_size=(2, 2)))\n",
    "\n",
    "model.add(Conv2D(filters=64, kernel_size=(3,3),padding='same', activation='relu')) \n",
    "model.add(Conv2D(filters=64, kernel_size=(3,3),activation='relu')) \n",
    "model.add(MaxPooling2D(pool_size=(2, 2)))\n",
    "\n",
    "model.add(Conv2D(filters=128, kernel_size=(3,3),padding='same', activation='relu')) \n",
    "model.add(Conv2D(filters=128, kernel_size=(3,3),activation='relu')) \n",
    "model.add(MaxPooling2D(pool_size=(2, 2)))\n",
    "\n",
    "model.add(Flatten())\n",
    "model.add(Dense(512, activation='relu'))\n",
    "model.add(Dropout(0.2))\n",
    "model.add(Dense(512, activation='relu'))\n",
    "model.add(Dropout(0.2))\n",
    "\n",
    "model.add(Dense(30)) \n",
    "\n",
    "model.summary()"
   ]
  },
  {
   "cell_type": "code",
   "execution_count": 10,
   "metadata": {
    "colab": {},
    "colab_type": "code",
    "id": "PaO9nRjQNtHl"
   },
   "outputs": [],
   "source": [
    "model.compile(loss='mean_squared_error', optimizer='adam')"
   ]
  },
  {
   "cell_type": "code",
   "execution_count": null,
   "metadata": {
    "collapsed": true
   },
   "outputs": [],
   "source": []
  }
 ],
 "metadata": {
  "colab": {
   "collapsed_sections": [],
   "name": "Day043_define_network_HW.ipynb",
   "provenance": []
  },
  "kernelspec": {
   "display_name": "Python 3",
   "language": "python",
   "name": "python3"
  },
  "language_info": {
   "codemirror_mode": {
    "name": "ipython",
    "version": 3
   },
   "file_extension": ".py",
   "mimetype": "text/x-python",
   "name": "python",
   "nbconvert_exporter": "python",
   "pygments_lexer": "ipython3",
   "version": "3.6.6"
  }
 },
 "nbformat": 4,
 "nbformat_minor": 1
}
